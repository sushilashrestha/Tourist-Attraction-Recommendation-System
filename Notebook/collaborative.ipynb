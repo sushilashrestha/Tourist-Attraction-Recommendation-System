{
 "cells": [
  {
   "cell_type": "code",
   "execution_count": 4,
   "metadata": {},
   "outputs": [
    {
     "name": "stdout",
     "output_type": "stream",
     "text": [
      "c:\\Users\\Lenovo\\Desktop\\Tourist Attraction Recommendation System\n"
     ]
    },
    {
     "name": "stderr",
     "output_type": "stream",
     "text": [
      "c:\\Users\\Lenovo\\Desktop\\Tourist Attraction Recommendation System\\venv\\Lib\\site-packages\\IPython\\core\\magics\\osm.py:417: UserWarning: This is now an optional IPython functionality, setting dhist requires you to install the `pickleshare` library.\n",
      "  self.shell.db['dhist'] = compress_dhist(dhist)[-100:]\n"
     ]
    }
   ],
   "source": [
    "cd .."
   ]
  },
  {
   "cell_type": "code",
   "execution_count": 36,
   "metadata": {},
   "outputs": [],
   "source": [
    "import pandas as pd \n",
    "import numpy as np \n",
    "from sklearn.metrics import mean_squared_error\n",
    "import implicit  # Import the implicit library\n",
    "import scipy\n"
   ]
  },
  {
   "cell_type": "code",
   "execution_count": 6,
   "metadata": {},
   "outputs": [
    {
     "data": {
      "text/html": [
       "<div>\n",
       "<style scoped>\n",
       "    .dataframe tbody tr th:only-of-type {\n",
       "        vertical-align: middle;\n",
       "    }\n",
       "\n",
       "    .dataframe tbody tr th {\n",
       "        vertical-align: top;\n",
       "    }\n",
       "\n",
       "    .dataframe thead th {\n",
       "        text-align: right;\n",
       "    }\n",
       "</style>\n",
       "<table border=\"1\" class=\"dataframe\">\n",
       "  <thead>\n",
       "    <tr style=\"text-align: right;\">\n",
       "      <th></th>\n",
       "      <th>Place</th>\n",
       "      <th>Reviewer Name</th>\n",
       "      <th>Reviewer Link</th>\n",
       "      <th>Reviewer Image</th>\n",
       "      <th>Rating</th>\n",
       "      <th>Date</th>\n",
       "      <th>Text</th>\n",
       "      <th>Photos</th>\n",
       "      <th>Likes Count</th>\n",
       "    </tr>\n",
       "  </thead>\n",
       "  <tbody>\n",
       "    <tr>\n",
       "      <th>0</th>\n",
       "      <td>Bhaktapur Durbar Square</td>\n",
       "      <td>Yuval Oz</td>\n",
       "      <td>https://www.google.com/maps/contrib/1020865195...</td>\n",
       "      <td>https://lh3.googleusercontent.com/a/ACg8ocLJPu...</td>\n",
       "      <td>5</td>\n",
       "      <td>3 weeks ago</td>\n",
       "      <td>This is an ancient area of ​​the royal palace....</td>\n",
       "      <td>https://lh5.googleusercontent.com/p/AF1QipOSO8...</td>\n",
       "      <td>0</td>\n",
       "    </tr>\n",
       "    <tr>\n",
       "      <th>1</th>\n",
       "      <td>Bhaktapur Durbar Square</td>\n",
       "      <td>Adam Lloyd</td>\n",
       "      <td>https://www.google.com/maps/contrib/1112437890...</td>\n",
       "      <td>https://lh3.googleusercontent.com/a-/ALV-UjU1i...</td>\n",
       "      <td>4</td>\n",
       "      <td>a month ago</td>\n",
       "      <td>Bhaktapur lives up to the hype with regards to...</td>\n",
       "      <td>https://lh5.googleusercontent.com/p/AF1QipMKiu...</td>\n",
       "      <td>1</td>\n",
       "    </tr>\n",
       "    <tr>\n",
       "      <th>2</th>\n",
       "      <td>Bhaktapur Durbar Square</td>\n",
       "      <td>Ahana Sengupta</td>\n",
       "      <td>https://www.google.com/maps/contrib/1169951575...</td>\n",
       "      <td>https://lh3.googleusercontent.com/a/ACg8ocJO7r...</td>\n",
       "      <td>5</td>\n",
       "      <td>a month ago</td>\n",
       "      <td>Feels like a travel back in time with traditio...</td>\n",
       "      <td>https://lh5.googleusercontent.com/p/AF1QipOaze...</td>\n",
       "      <td>0</td>\n",
       "    </tr>\n",
       "    <tr>\n",
       "      <th>3</th>\n",
       "      <td>Bhaktapur Durbar Square</td>\n",
       "      <td>Biswajit Saha</td>\n",
       "      <td>https://www.google.com/maps/contrib/1125207243...</td>\n",
       "      <td>https://lh3.googleusercontent.com/a-/ALV-UjVfH...</td>\n",
       "      <td>5</td>\n",
       "      <td>2 months ago</td>\n",
       "      <td>Among the 3 durbar squares in Kathmandu, this ...</td>\n",
       "      <td>https://lh5.googleusercontent.com/p/AF1QipPCmH...</td>\n",
       "      <td>1</td>\n",
       "    </tr>\n",
       "    <tr>\n",
       "      <th>4</th>\n",
       "      <td>Bhaktapur Durbar Square</td>\n",
       "      <td>Abhijat Poudel</td>\n",
       "      <td>https://www.google.com/maps/contrib/1006483766...</td>\n",
       "      <td>https://lh3.googleusercontent.com/a/ACg8ocK9qV...</td>\n",
       "      <td>5</td>\n",
       "      <td>2 months ago</td>\n",
       "      <td>A renowned world heritage site with a long his...</td>\n",
       "      <td>https://lh5.googleusercontent.com/p/AF1QipPaB9...</td>\n",
       "      <td>3</td>\n",
       "    </tr>\n",
       "  </tbody>\n",
       "</table>\n",
       "</div>"
      ],
      "text/plain": [
       "                     Place   Reviewer Name  \\\n",
       "0  Bhaktapur Durbar Square        Yuval Oz   \n",
       "1  Bhaktapur Durbar Square      Adam Lloyd   \n",
       "2  Bhaktapur Durbar Square  Ahana Sengupta   \n",
       "3  Bhaktapur Durbar Square   Biswajit Saha   \n",
       "4  Bhaktapur Durbar Square  Abhijat Poudel   \n",
       "\n",
       "                                       Reviewer Link  \\\n",
       "0  https://www.google.com/maps/contrib/1020865195...   \n",
       "1  https://www.google.com/maps/contrib/1112437890...   \n",
       "2  https://www.google.com/maps/contrib/1169951575...   \n",
       "3  https://www.google.com/maps/contrib/1125207243...   \n",
       "4  https://www.google.com/maps/contrib/1006483766...   \n",
       "\n",
       "                                      Reviewer Image  Rating          Date  \\\n",
       "0  https://lh3.googleusercontent.com/a/ACg8ocLJPu...       5   3 weeks ago   \n",
       "1  https://lh3.googleusercontent.com/a-/ALV-UjU1i...       4   a month ago   \n",
       "2  https://lh3.googleusercontent.com/a/ACg8ocJO7r...       5   a month ago   \n",
       "3  https://lh3.googleusercontent.com/a-/ALV-UjVfH...       5  2 months ago   \n",
       "4  https://lh3.googleusercontent.com/a/ACg8ocK9qV...       5  2 months ago   \n",
       "\n",
       "                                                Text  \\\n",
       "0  This is an ancient area of ​​the royal palace....   \n",
       "1  Bhaktapur lives up to the hype with regards to...   \n",
       "2  Feels like a travel back in time with traditio...   \n",
       "3  Among the 3 durbar squares in Kathmandu, this ...   \n",
       "4  A renowned world heritage site with a long his...   \n",
       "\n",
       "                                              Photos  Likes Count  \n",
       "0  https://lh5.googleusercontent.com/p/AF1QipOSO8...            0  \n",
       "1  https://lh5.googleusercontent.com/p/AF1QipMKiu...            1  \n",
       "2  https://lh5.googleusercontent.com/p/AF1QipOaze...            0  \n",
       "3  https://lh5.googleusercontent.com/p/AF1QipPCmH...            1  \n",
       "4  https://lh5.googleusercontent.com/p/AF1QipPaB9...            3  "
      ]
     },
     "execution_count": 6,
     "metadata": {},
     "output_type": "execute_result"
    }
   ],
   "source": [
    "df = pd.read_csv(\"Dataset/reviews_output.csv\")\n",
    "df.head()"
   ]
  },
  {
   "cell_type": "code",
   "execution_count": 11,
   "metadata": {},
   "outputs": [
    {
     "name": "stdout",
     "output_type": "stream",
     "text": [
      "<class 'pandas.core.frame.DataFrame'>\n",
      "RangeIndex: 240 entries, 0 to 239\n",
      "Data columns (total 9 columns):\n",
      " #   Column          Non-Null Count  Dtype \n",
      "---  ------          --------------  ----- \n",
      " 0   Place           240 non-null    object\n",
      " 1   Reviewer Name   240 non-null    object\n",
      " 2   Reviewer Link   240 non-null    object\n",
      " 3   Reviewer Image  240 non-null    object\n",
      " 4   Rating          240 non-null    int64 \n",
      " 5   Date            232 non-null    object\n",
      " 6   Text            237 non-null    object\n",
      " 7   Photos          222 non-null    object\n",
      " 8   Likes Count     240 non-null    int64 \n",
      "dtypes: int64(2), object(7)\n",
      "memory usage: 17.0+ KB\n"
     ]
    }
   ],
   "source": [
    "df.info()"
   ]
  },
  {
   "cell_type": "code",
   "execution_count": 21,
   "metadata": {},
   "outputs": [
    {
     "data": {
      "text/plain": [
       "array([5, 4, 2, 3, 0])"
      ]
     },
     "execution_count": 21,
     "metadata": {},
     "output_type": "execute_result"
    }
   ],
   "source": [
    "df[\"Rating\"].unique()"
   ]
  },
  {
   "cell_type": "code",
   "execution_count": 55,
   "metadata": {},
   "outputs": [],
   "source": [
    "# Prepare the user-item matrix\n",
    "def prepare_user_item_matrix(data):\n",
    "    user_item_matrix = data.pivot_table(\n",
    "        index=\"Reviewer Name\", columns=\"Place\", values=\"Rating\"\n",
    "    )\n",
    "    return user_item_matrix\n",
    "\n",
    "user_item_matrix = prepare_user_item_matrix(df)"
   ]
  },
  {
   "cell_type": "code",
   "execution_count": 40,
   "metadata": {},
   "outputs": [
    {
     "data": {
      "text/plain": [
       "<Compressed Sparse Row sparse matrix of dtype 'float64'\n",
       "\twith 224 stored elements and shape (188, 29)>"
      ]
     },
     "execution_count": 40,
     "metadata": {},
     "output_type": "execute_result"
    }
   ],
   "source": [
    "# Convert the user-item matrix to a sparse matrix format\n",
    "user_item_matrix_sparse = user_item_matrix.fillna(0).values\n",
    "user_item_matrix_sparse = scipy.sparse.csr_matrix(user_item_matrix_sparse)\n",
    "user_item_matrix_sparse"
   ]
  },
  {
   "cell_type": "code",
   "execution_count": 66,
   "metadata": {},
   "outputs": [],
   "source": [
    "# Train-test split (80% training, 20% testing)\n",
    "train_data, test_data = train_test_split(df, test_size=0.2, random_state=42)\n",
    "\n",
    "# Prepare user-item matrices for training and testing\n",
    "train_user_item_matrix = prepare_user_item_matrix(train_data)\n",
    "test_user_item_matrix = prepare_user_item_matrix(test_data)"
   ]
  },
  {
   "cell_type": "code",
   "execution_count": 67,
   "metadata": {},
   "outputs": [],
   "source": [
    "# Convert to sparse matrix format\n",
    "train_user_item_matrix_sparse = scipy.sparse.csr_matrix(train_user_item_matrix.fillna(0).values)\n",
    "test_user_item_matrix_sparse = scipy.sparse.csr_matrix(test_user_item_matrix.fillna(0).values)\n"
   ]
  },
  {
   "cell_type": "code",
   "execution_count": 68,
   "metadata": {},
   "outputs": [
    {
     "name": "stderr",
     "output_type": "stream",
     "text": [
      "100%|██████████| 50/50 [00:00<00:00, 886.34it/s]\n"
     ]
    }
   ],
   "source": [
    "# Initialize and fit the ALS model\n",
    "model = implicit.als.AlternatingLeastSquares(factors=50, regularization=0.1, iterations=50)\n",
    "model.fit(train_user_item_matrix_sparse)"
   ]
  },
  {
   "cell_type": "code",
   "execution_count": 69,
   "metadata": {},
   "outputs": [],
   "source": [
    "\n",
    "# Create a mapping for users and items\n",
    "user_idx_map = {user: idx for idx, user in enumerate(train_user_item_matrix.index)}\n",
    "item_idx_map = {item: idx for idx, item in enumerate(train_user_item_matrix.columns)}"
   ]
  },
  {
   "cell_type": "code",
   "execution_count": 70,
   "metadata": {},
   "outputs": [],
   "source": [
    "# Function to calculate RMSE\n",
    "def calculate_rmse(original_matrix, predicted_matrix):\n",
    "    # Ensure both matrices have the same shape\n",
    "    if original_matrix.shape != predicted_matrix.shape:\n",
    "        raise ValueError(\"Original and predicted matrices must have the same shape.\")\n",
    "    \n",
    "    # Create a mask for actual ratings (non-zero entries)\n",
    "    mask = original_matrix != 0\n",
    "    \n",
    "    # Flatten both matrices to 1D arrays\n",
    "    original_flat = original_matrix[mask]\n",
    "    predicted_flat = predicted_matrix[mask]\n",
    "    \n",
    "    # Compute MSE and RMSE\n",
    "    mse = mean_squared_error(original_flat, predicted_flat)\n",
    "    rmse = np.sqrt(mse)\n",
    "    return rmse"
   ]
  },
  {
   "cell_type": "code",
   "execution_count": 73,
   "metadata": {},
   "outputs": [],
   "source": [
    "# Function to calculate RMSE\n",
    "def calculate_rmse(original_matrix, predicted_matrix):\n",
    "    # Ensure both matrices have the same shape\n",
    "    if original_matrix.shape != predicted_matrix.shape:\n",
    "        raise ValueError(\"Original and predicted matrices must have the same shape.\")\n",
    "    \n",
    "    # Create a mask for actual ratings (non-zero entries)\n",
    "    mask = original_matrix != 0\n",
    "    \n",
    "    # Flatten both matrices to 1D arrays, only keeping the non-zero entries (non-NaN)\n",
    "    original_flat = original_matrix[mask]\n",
    "    predicted_flat = predicted_matrix[mask]\n",
    "    \n",
    "    # Remove NaN values in both arrays\n",
    "    valid_indices = ~np.isnan(original_flat) & ~np.isnan(predicted_flat)\n",
    "    original_flat = original_flat[valid_indices]\n",
    "    predicted_flat = predicted_flat[valid_indices]\n",
    "    \n",
    "    # Compute MSE and RMSE\n",
    "    mse = mean_squared_error(original_flat, predicted_flat)\n",
    "    rmse = np.sqrt(mse)\n",
    "    return rmse\n"
   ]
  },
  {
   "cell_type": "code",
   "execution_count": 74,
   "metadata": {},
   "outputs": [
    {
     "name": "stdout",
     "output_type": "stream",
     "text": [
      "Root Mean Squared Error (RMSE) on Test Data: 4.534809585149154\n"
     ]
    }
   ],
   "source": [
    "# Calculate RMSE for the valid test data\n",
    "rmse = calculate_rmse(\n",
    "    test_user_item_matrix.loc[valid_test_users, valid_test_items].values, \n",
    "    predicted_ratings_test_matrix\n",
    ")\n",
    "print(f\"Root Mean Squared Error (RMSE) on Test Data: {rmse}\")"
   ]
  },
  {
   "cell_type": "code",
   "execution_count": 81,
   "metadata": {},
   "outputs": [],
   "source": [
    "def recommend_places(user_name, num_recommendations=5):\n",
    "    if user_name not in user_item_matrix.index:\n",
    "        print(\"User not found!\")\n",
    "        return []\n",
    "    \n",
    "    # Get the index of the user in the user-item matrix\n",
    "    user_idx = user_item_matrix.index.get_loc(user_name)  # This returns the index of the user\n",
    "\n",
    "    # Check if the user index is within bounds of the ALS model's user factors\n",
    "    if user_idx >= len(model.user_factors):\n",
    "        print(\"User index out of bounds for the ALS model.\")\n",
    "        return []\n",
    "    \n",
    "    # Recommend places using the ALS model\n",
    "    recommended_items = model.recommend(user_idx, user_item_matrix_sparse[user_idx], N=num_recommendations)\n",
    "    \n",
    "    # Extract item indices and scores from the recommended items\n",
    "    item_indices, scores = recommended_items\n",
    "    \n",
    "    # Format the recommendations as a list of (item_name, score)\n",
    "    recommendations = [(user_item_matrix.columns[int(item_idx)], score) for item_idx, score in zip(item_indices, scores)]\n",
    "    \n",
    "    return recommendations\n"
   ]
  },
  {
   "cell_type": "code",
   "execution_count": null,
   "metadata": {},
   "outputs": [],
   "source": []
  },
  {
   "cell_type": "code",
   "execution_count": 84,
   "metadata": {},
   "outputs": [
    {
     "name": "stdout",
     "output_type": "stream",
     "text": [
      "Users in the user-item matrix: ['1 Min Beats', 'A A', 'Aashutosh Shiwakoti', 'Abhigyan Basak', 'Abhijat Poudel', 'Abhimanue Budhathoki', 'Abhishek Kumar Ambar', 'Abhishek Poudel', 'Abinash singh', 'Ace Rai (aaceees)', 'Adam Lloyd', 'Addy Kapur', 'Aditya Lama Lopchan', 'Ahana Sengupta', 'Akash Dhami', 'Akash Kumar', 'Akash Prajapati', 'Akash Ranjan', 'Akriti Shrestha', 'Amartya Ghosal', 'Amit Maskara', 'Ananya R (Passion Tracker)', 'Andrew', 'Anish Bhattarai', 'Anish Tamang', 'Anitha Revankar', 'Anjali raj', 'Ankit Bhatt', 'Ankush K', 'Anmol Bade', 'Anuj yadav', 'Anurag Jassal', 'Aravind S', 'Archana Kakade', 'Archana Lama', 'Aruna Karki', 'Avishek Shrestha', 'Aviv Adhikari', 'Ayush Bhattarai', 'Babak afshar ebrahimi', 'Bibek Yadav', 'Bidhan shrestha', 'Bikesh Youngya', 'Bimochan Chaudhary', 'Binesh Maharjan', 'Binuwick', 'Bipul Thapa Magar', 'Bishal Humagain', 'Biswajit Saha', 'Blossom Expeditions', 'Bob Manthy', 'CLASH', 'Carlo R. Carranza', 'Chaitanya Hegde', 'Charu Kalsy', 'Chloe Davies', 'D G BERA', 'David Houlston', 'David “The Explorer” Hogan Jr', 'Deepanshu Soni', 'Dheeraj Dheeraj', 'Dheeraj Jack', 'Dhiraj', 'Dijesh Tandukar', 'Dinesh P. S. Poudyalaya', 'Donna Mae Santos', 'Dr KAP', 'Emon Dhungana', 'Escape38359282445', 'Fahmid Salman Shah', 'Filippo Francesconi', 'GV OnlinE', 'Gracie Sharma', 'Gunnar Caya', 'Gurpreet Dhariwal', 'Himal Acharya', 'Ianhung Lee', 'Inside AKY', 'Jay Singh', 'Jel', 'Jemmalyn Callos', 'Julietagarpardo77 Ga', 'Junu Prajapati', 'Juzar Malubhoy', 'Jyoti Sahu', 'K -', 'Karishma Parajuli', 'Khannika Suwan', 'Kiki Bhutia', 'Kimberly M', 'Larkin Crain', 'Laxman Sharma', 'Lujaw Manandhar', 'MANASVINI VISWANATHAN', 'Madan Bhandari', 'Madan Gopal Madabhushi', 'Mahesh Patil', 'Mandhir Yadav', 'Manish', 'Manish Kumar', 'Manish Kumar Singh', 'Manish upadhyay', 'Manoj Satyal', 'Martha Sakulku', 'Meghna Mangrati', 'Moises Lemos', 'Moitrish Maity', 'Monika Lubszczyk', 'NABIN DEVKOTA', 'Nadja Haas', 'Natalia Kaźmierczak', 'Nickace Buzzlightyear', 'Niloy Biswas', 'Niraj Prazapati', 'Nishan Sangroula', 'Nitin Chaudhary', 'PRAYATNA', 'Parash Pokhrel', 'Paul Williams', 'Prabesh Gautam', 'Prabin Tiwari', 'Prateek Kapsime', 'Preju Khanal', 'Rabindra Bidari', 'Rajan Gothi', 'Ram Krishna Bhattacharjee', 'Ramesh Bhurtel', 'Rebecca K', 'Reshma Poddar', 'Rifat Zabeen', 'Riha Reviews', 'Ronmita Pal', 'SHIVAM SHARMA', 'SHUBH VIRBHAN', 'Sagar Sherpa', 'Sahil Agrawal', 'Sampath D', 'SampurnA RAI (XRS3)', 'Santosh', 'Santosh Prashad Rimal', 'Satabdi Nath', 'Shaik Masood', 'Shankar Raut', 'Shital Regmee', 'Shravan Jaiswal', 'Shreeyog Magar', 'Shristi B', 'Shyam Jha', 'Siddharth', 'Siddhartha Maharjan', 'Sonam Dorje', 'Sophia W', 'Soumyadip Sanyal', 'Sudip Neupane', 'Sugam Bhusal', 'Suja KR', 'Sujan Pandey', 'Suman Poudel', 'Sumanna Shrestha', 'Supriya', 'Suresh Giri', 'Suryakant Banarsi', 'Technical Arnab', 'Tejinder Singh', 'Trishala Jain', 'Udhab KC', 'Ujjwal Gupta', 'Umesh Duwal', 'Vineet Singh', 'Willi Mueller', 'Yogendra Rajkarnikar', 'Yuval Oz', 'ZUKI', 'dip sarkar', 'kaushila bishwakarma', 'naresh dhakal', 'nisip shrestha', 'paRul Jha', 'pavel krigman', 'prasant paneru', 'sabina` uraw', 'sagar gyawali', 'santosh acharya', 'suraj sakhardande', 'umesh Yadav', 'upahaar limbu', 'איתי צחובוי', '۷ıʂɧ۷ʝɛɛɬ ƙųɱąཞ']\n",
      "Index for '1 Min Beats' in user-item matrix: 0\n",
      "Top recommendations for 1 Min Beats:\n",
      " [('Shree Kaal Bhairav Temple', np.float32(0.9935172)), ('Sagarmatha National Park', np.float32(0.0027534794)), ('Kumari Ghar', np.float32(0.002282674)), ('Patan Museum', np.float32(0.002066304)), ('A short hike to Doleshwor Mahadev temple, Bhaktapur', np.float32(0.00033753272))]\n"
     ]
    }
   ],
   "source": [
    "# Step 1: List all users in the user-item matrix\n",
    "print(\"Users in the user-item matrix:\", user_item_matrix.index.tolist())\n",
    "\n",
    "# Step 2: Recreate the user-item matrix\n",
    "user_item_matrix = prepare_user_item_matrix(df)  # Recreate user-item matrix\n",
    "\n",
    "# Step 3: Check the index for 'Yuval Oz'\n",
    "valid_user_name = \"1 Min Beats\"\n",
    "try:\n",
    "    user_idx_in_matrix = user_item_matrix.index.get_loc(valid_user_name)  # Get index for Yuval Oz\n",
    "    print(f\"Index for '{valid_user_name}' in user-item matrix:\", user_idx_in_matrix)\n",
    "    recommendations = recommend_places(valid_user_name)\n",
    "    print(f\"Top recommendations for {valid_user_name}:\\n\", recommendations)\n",
    "except KeyError:\n",
    "    print(f\"User '{valid_user_name}' not found in user-item matrix.\")\n"
   ]
  },
  {
   "cell_type": "code",
   "execution_count": 88,
   "metadata": {},
   "outputs": [
    {
     "name": "stdout",
     "output_type": "stream",
     "text": [
      "Root Mean Squared Error (RMSE) on Test Data: 1.013412309779687\n",
      "Mean Absolute Error (MAE) on Test Data: 0.24459746017664594\n"
     ]
    }
   ],
   "source": [
    "from sklearn.metrics import mean_squared_error, mean_absolute_error\n",
    "import numpy as np\n",
    "\n",
    "# Function to calculate RMSE\n",
    "def calculate_rmse(actual_ratings, predicted_ratings):\n",
    "    # Flatten the matrices to 1D arrays\n",
    "    actual_ratings_flat = actual_ratings.flatten()\n",
    "    predicted_ratings_flat = predicted_ratings.flatten()\n",
    "    \n",
    "    # Compute RMSE\n",
    "    mse = mean_squared_error(actual_ratings_flat, predicted_ratings_flat)\n",
    "    rmse = np.sqrt(mse)\n",
    "    return rmse\n",
    "\n",
    "# Function to calculate MAE\n",
    "def calculate_mae(actual_ratings, predicted_ratings):\n",
    "    # Flatten the matrices to 1D arrays\n",
    "    actual_ratings_flat = actual_ratings.flatten()\n",
    "    predicted_ratings_flat = predicted_ratings.flatten()\n",
    "    \n",
    "    # Compute MAE\n",
    "    mae = mean_absolute_error(actual_ratings_flat, predicted_ratings_flat)\n",
    "    return mae\n",
    "\n",
    "# Example usage:\n",
    "# Assuming you have a set of actual and predicted ratings matrices for the test data\n",
    "\n",
    "# Actual ratings for the test data (you need to have the test data for evaluation)\n",
    "# Ensure `valid_test_users` and `valid_test_items` are aligned with the test set\n",
    "actual_ratings_test = test_user_item_matrix.loc[valid_test_users, valid_test_items].values  # Replace with your actual ratings matrix\n",
    "\n",
    "# Initialize an empty list to store predicted ratings for test items\n",
    "predicted_ratings_list = np.zeros_like(actual_ratings_test)  # Initialize an empty array to store predicted ratings\n",
    "\n",
    "# Iterate over the users in the test data\n",
    "for user_idx in range(len(valid_test_users)):\n",
    "    # Extract the recommended items for the current user\n",
    "    recommended_items = model.recommend(user_idx, user_item_matrix_sparse[user_idx], N=len(valid_test_items))\n",
    "    item_indices, predicted_scores = recommended_items\n",
    "\n",
    "    # Ensure predicted ratings are aligned with valid_test_items\n",
    "    for i, (item_idx, score) in enumerate(zip(item_indices, predicted_scores)):\n",
    "        predicted_ratings_list[user_idx, i] = score  # Update the predicted rating for the user-item pair\n",
    "\n",
    "# Check for NaN values before calculation\n",
    "if np.any(np.isnan(actual_ratings_test)) or np.any(np.isnan(predicted_ratings_list)):\n",
    "    actual_ratings_test = np.nan_to_num(actual_ratings_test, nan=0)\n",
    "    predicted_ratings_list = np.nan_to_num(predicted_ratings_list, nan=0)\n",
    "\n",
    "# Calculate RMSE\n",
    "rmse = calculate_rmse(actual_ratings_test, predicted_ratings_list)\n",
    "print(f\"Root Mean Squared Error (RMSE) on Test Data: {rmse}\")\n",
    "\n",
    "# Calculate MAE\n",
    "mae = calculate_mae(actual_ratings_test, predicted_ratings_list)\n",
    "print(f\"Mean Absolute Error (MAE) on Test Data: {mae}\")\n"
   ]
  },
  {
   "cell_type": "code",
   "execution_count": 90,
   "metadata": {},
   "outputs": [
    {
     "name": "stdout",
     "output_type": "stream",
     "text": [
      "Root Mean Squared Error (RMSE) on Test Data: 4.846719755193043\n",
      "Mean Absolute Error (MAE) on Test Data: 4.832396604275952\n",
      "R² Score on Test Data: -168.1329851747253\n",
      "Precision on Test Data: 0.0\n",
      "Recall on Test Data: 0.0\n",
      "F1 Score on Test Data: 0.0\n"
     ]
    },
    {
     "name": "stderr",
     "output_type": "stream",
     "text": [
      "c:\\Users\\Lenovo\\Desktop\\Tourist Attraction Recommendation System\\venv\\Lib\\site-packages\\sklearn\\metrics\\_classification.py:1531: UndefinedMetricWarning: Precision is ill-defined and being set to 0.0 due to no predicted samples. Use `zero_division` parameter to control this behavior.\n",
      "  _warn_prf(average, modifier, f\"{metric.capitalize()} is\", len(result))\n"
     ]
    }
   ],
   "source": [
    "from sklearn.metrics import mean_squared_error, mean_absolute_error, r2_score\n",
    "from sklearn.metrics import precision_score, recall_score, f1_score\n",
    "import numpy as np\n",
    "\n",
    "# Function to calculate RMSE\n",
    "def calculate_rmse(actual_ratings, predicted_ratings):\n",
    "    actual_ratings_flat = actual_ratings.flatten()\n",
    "    predicted_ratings_flat = predicted_ratings.flatten()\n",
    "    \n",
    "    # Handle NaN values by removing them\n",
    "    mask = ~np.isnan(actual_ratings_flat) & ~np.isnan(predicted_ratings_flat)\n",
    "    actual_ratings_flat = actual_ratings_flat[mask]\n",
    "    predicted_ratings_flat = predicted_ratings_flat[mask]\n",
    "    \n",
    "    mse = mean_squared_error(actual_ratings_flat, predicted_ratings_flat)\n",
    "    rmse = np.sqrt(mse)\n",
    "    return rmse\n",
    "\n",
    "# Function to calculate MAE\n",
    "def calculate_mae(actual_ratings, predicted_ratings):\n",
    "    actual_ratings_flat = actual_ratings.flatten()\n",
    "    predicted_ratings_flat = predicted_ratings.flatten()\n",
    "    \n",
    "    # Handle NaN values by removing them\n",
    "    mask = ~np.isnan(actual_ratings_flat) & ~np.isnan(predicted_ratings_flat)\n",
    "    actual_ratings_flat = actual_ratings_flat[mask]\n",
    "    predicted_ratings_flat = predicted_ratings_flat[mask]\n",
    "    \n",
    "    mae = mean_absolute_error(actual_ratings_flat, predicted_ratings_flat)\n",
    "    return mae\n",
    "\n",
    "# Function to calculate R² score\n",
    "def calculate_r2(actual_ratings, predicted_ratings):\n",
    "    actual_ratings_flat = actual_ratings.flatten()\n",
    "    predicted_ratings_flat = predicted_ratings.flatten()\n",
    "    \n",
    "    # Handle NaN values by removing them\n",
    "    mask = ~np.isnan(actual_ratings_flat) & ~np.isnan(predicted_ratings_flat)\n",
    "    actual_ratings_flat = actual_ratings_flat[mask]\n",
    "    predicted_ratings_flat = predicted_ratings_flat[mask]\n",
    "    \n",
    "    r2 = r2_score(actual_ratings_flat, predicted_ratings_flat)\n",
    "    return r2\n",
    "\n",
    "# Function to calculate Precision, Recall, F1 score\n",
    "def calculate_precision_recall_f1(actual_ratings, predicted_ratings, threshold=3.0):\n",
    "    # Convert ratings to binary values: 1 if rating >= threshold, else 0\n",
    "    actual_binary = (actual_ratings >= threshold).flatten()\n",
    "    predicted_binary = (predicted_ratings >= threshold).flatten()\n",
    "    \n",
    "    # Handle NaN values by removing them\n",
    "    mask = ~np.isnan(actual_binary) & ~np.isnan(predicted_binary)\n",
    "    actual_binary = actual_binary[mask]\n",
    "    predicted_binary = predicted_binary[mask]\n",
    "    \n",
    "    precision = precision_score(actual_binary, predicted_binary)\n",
    "    recall = recall_score(actual_binary, predicted_binary)\n",
    "    f1 = f1_score(actual_binary, predicted_binary)\n",
    "    \n",
    "    return precision, recall, f1\n",
    "\n",
    "# Example usage:\n",
    "# Assuming you have a set of actual and predicted ratings matrices for the test data\n",
    "\n",
    "# Actual ratings for the test data (you need to have the test data for evaluation)\n",
    "actual_ratings_test = test_user_item_matrix.loc[valid_test_users, valid_test_items].values  # Replace with your actual ratings matrix\n",
    "\n",
    "# Initialize an empty list to store predicted ratings for test items\n",
    "predicted_ratings_list = []\n",
    "\n",
    "# Iterate over the users in the test data\n",
    "for user_idx in range(len(valid_test_users)):\n",
    "    # Extract the recommended items for the current user\n",
    "    recommended_items = model.recommend(user_idx, user_item_matrix_sparse[user_idx], N=len(valid_test_items))\n",
    "    item_indices, predicted_scores = recommended_items\n",
    "\n",
    "    # Map the item indices to actual item names\n",
    "    recommended_items_with_scores = [\n",
    "        (user_item_matrix.columns[int(item_idx)], score) for item_idx, score in zip(item_indices, predicted_scores)\n",
    "    ]\n",
    "    \n",
    "    # Store the predicted ratings for each user-item pair (simplified for this example)\n",
    "    for item, score in recommended_items_with_scores:\n",
    "        predicted_ratings_list.append(score)\n",
    "\n",
    "# Convert the list of predicted ratings into a numpy array\n",
    "predicted_ratings_test_matrix = np.array(predicted_ratings_list).reshape(actual_ratings_test.shape)\n",
    "\n",
    "# Calculate RMSE\n",
    "rmse = calculate_rmse(actual_ratings_test, predicted_ratings_test_matrix)\n",
    "print(f\"Root Mean Squared Error (RMSE) on Test Data: {rmse}\")\n",
    "\n",
    "# Calculate MAE\n",
    "mae = calculate_mae(actual_ratings_test, predicted_ratings_test_matrix)\n",
    "print(f\"Mean Absolute Error (MAE) on Test Data: {mae}\")\n",
    "\n",
    "# Calculate R² score\n",
    "r2 = calculate_r2(actual_ratings_test, predicted_ratings_test_matrix)\n",
    "print(f\"R² Score on Test Data: {r2}\")\n",
    "\n",
    "# Calculate Precision, Recall, F1 score (using a threshold of 3.0 for relevance)\n",
    "precision, recall, f1 = calculate_precision_recall_f1(actual_ratings_test, predicted_ratings_test_matrix)\n",
    "print(f\"Precision on Test Data: {precision}\")\n",
    "print(f\"Recall on Test Data: {recall}\")\n",
    "print(f\"F1 Score on Test Data: {f1}\")\n"
   ]
  }
 ],
 "metadata": {
  "kernelspec": {
   "display_name": "venv",
   "language": "python",
   "name": "python3"
  },
  "language_info": {
   "codemirror_mode": {
    "name": "ipython",
    "version": 3
   },
   "file_extension": ".py",
   "mimetype": "text/x-python",
   "name": "python",
   "nbconvert_exporter": "python",
   "pygments_lexer": "ipython3",
   "version": "3.11.3"
  }
 },
 "nbformat": 4,
 "nbformat_minor": 2
}
