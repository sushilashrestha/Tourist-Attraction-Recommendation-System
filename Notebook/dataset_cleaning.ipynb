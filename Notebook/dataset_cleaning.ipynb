{
 "cells": [
  {
   "cell_type": "code",
   "execution_count": 16,
   "metadata": {},
   "outputs": [],
   "source": [
    "import pandas as pd\n",
    "import matplotlib.pyplot as plt\n",
    "%matplotlib inline\n",
    "import re\n",
    "from geopy.geocoders import Nominatim\n",
    "import pickle\n",
    "\n"
   ]
  },
  {
   "cell_type": "code",
   "execution_count": 10,
   "metadata": {},
   "outputs": [],
   "source": [
    "df = pd.read_csv('Top Indian Places to Visit.csv')"
   ]
  },
  {
   "cell_type": "code",
   "execution_count": 5,
   "metadata": {},
   "outputs": [
    {
     "name": "stdout",
     "output_type": "stream",
     "text": [
      "<class 'pandas.core.frame.DataFrame'>\n",
      "RangeIndex: 325 entries, 0 to 324\n",
      "Data columns (total 16 columns):\n",
      " #   Column                            Non-Null Count  Dtype  \n",
      "---  ------                            --------------  -----  \n",
      " 0   Unnamed: 0                        325 non-null    int64  \n",
      " 1   Zone                              325 non-null    object \n",
      " 2   State                             325 non-null    object \n",
      " 3   City                              325 non-null    object \n",
      " 4   Name                              325 non-null    object \n",
      " 5   Type                              325 non-null    object \n",
      " 6   Establishment Year                325 non-null    object \n",
      " 7   time needed to visit in hrs       325 non-null    float64\n",
      " 8   Google review rating              325 non-null    float64\n",
      " 9   Entrance Fee in INR               325 non-null    int64  \n",
      " 10  Airport with 50km Radius          325 non-null    object \n",
      " 11  Weekly Off                        32 non-null     object \n",
      " 12  Significance                      325 non-null    object \n",
      " 13  DSLR Allowed                      325 non-null    object \n",
      " 14  Number of google review in lakhs  325 non-null    float64\n",
      " 15  Best Time to visit                325 non-null    object \n",
      "dtypes: float64(3), int64(2), object(11)\n",
      "memory usage: 40.8+ KB\n"
     ]
    }
   ],
   "source": [
    "df.info()"
   ]
  },
  {
   "cell_type": "code",
   "execution_count": 6,
   "metadata": {},
   "outputs": [
    {
     "data": {
      "text/html": [
       "<div>\n",
       "<style scoped>\n",
       "    .dataframe tbody tr th:only-of-type {\n",
       "        vertical-align: middle;\n",
       "    }\n",
       "\n",
       "    .dataframe tbody tr th {\n",
       "        vertical-align: top;\n",
       "    }\n",
       "\n",
       "    .dataframe thead th {\n",
       "        text-align: right;\n",
       "    }\n",
       "</style>\n",
       "<table border=\"1\" class=\"dataframe\">\n",
       "  <thead>\n",
       "    <tr style=\"text-align: right;\">\n",
       "      <th></th>\n",
       "      <th>Unnamed: 0</th>\n",
       "      <th>Zone</th>\n",
       "      <th>State</th>\n",
       "      <th>City</th>\n",
       "      <th>Name</th>\n",
       "      <th>Type</th>\n",
       "      <th>Establishment Year</th>\n",
       "      <th>time needed to visit in hrs</th>\n",
       "      <th>Google review rating</th>\n",
       "      <th>Entrance Fee in INR</th>\n",
       "      <th>Airport with 50km Radius</th>\n",
       "      <th>Weekly Off</th>\n",
       "      <th>Significance</th>\n",
       "      <th>DSLR Allowed</th>\n",
       "      <th>Number of google review in lakhs</th>\n",
       "      <th>Best Time to visit</th>\n",
       "    </tr>\n",
       "  </thead>\n",
       "  <tbody>\n",
       "    <tr>\n",
       "      <th>0</th>\n",
       "      <td>0</td>\n",
       "      <td>Northern</td>\n",
       "      <td>Delhi</td>\n",
       "      <td>Delhi</td>\n",
       "      <td>India Gate</td>\n",
       "      <td>War Memorial</td>\n",
       "      <td>1921</td>\n",
       "      <td>0.5</td>\n",
       "      <td>4.6</td>\n",
       "      <td>0</td>\n",
       "      <td>Yes</td>\n",
       "      <td>NaN</td>\n",
       "      <td>Historical</td>\n",
       "      <td>Yes</td>\n",
       "      <td>2.60</td>\n",
       "      <td>Evening</td>\n",
       "    </tr>\n",
       "    <tr>\n",
       "      <th>1</th>\n",
       "      <td>1</td>\n",
       "      <td>Northern</td>\n",
       "      <td>Delhi</td>\n",
       "      <td>Delhi</td>\n",
       "      <td>Humayun's Tomb</td>\n",
       "      <td>Tomb</td>\n",
       "      <td>1572</td>\n",
       "      <td>2.0</td>\n",
       "      <td>4.5</td>\n",
       "      <td>30</td>\n",
       "      <td>Yes</td>\n",
       "      <td>NaN</td>\n",
       "      <td>Historical</td>\n",
       "      <td>Yes</td>\n",
       "      <td>0.40</td>\n",
       "      <td>Afternoon</td>\n",
       "    </tr>\n",
       "    <tr>\n",
       "      <th>2</th>\n",
       "      <td>2</td>\n",
       "      <td>Northern</td>\n",
       "      <td>Delhi</td>\n",
       "      <td>Delhi</td>\n",
       "      <td>Akshardham Temple</td>\n",
       "      <td>Temple</td>\n",
       "      <td>2005</td>\n",
       "      <td>5.0</td>\n",
       "      <td>4.6</td>\n",
       "      <td>60</td>\n",
       "      <td>Yes</td>\n",
       "      <td>NaN</td>\n",
       "      <td>Religious</td>\n",
       "      <td>No</td>\n",
       "      <td>0.40</td>\n",
       "      <td>Afternoon</td>\n",
       "    </tr>\n",
       "    <tr>\n",
       "      <th>3</th>\n",
       "      <td>3</td>\n",
       "      <td>Northern</td>\n",
       "      <td>Delhi</td>\n",
       "      <td>Delhi</td>\n",
       "      <td>Waste to Wonder Park</td>\n",
       "      <td>Theme Park</td>\n",
       "      <td>2019</td>\n",
       "      <td>2.0</td>\n",
       "      <td>4.1</td>\n",
       "      <td>50</td>\n",
       "      <td>Yes</td>\n",
       "      <td>Monday</td>\n",
       "      <td>Environmental</td>\n",
       "      <td>Yes</td>\n",
       "      <td>0.27</td>\n",
       "      <td>Evening</td>\n",
       "    </tr>\n",
       "    <tr>\n",
       "      <th>4</th>\n",
       "      <td>4</td>\n",
       "      <td>Northern</td>\n",
       "      <td>Delhi</td>\n",
       "      <td>Delhi</td>\n",
       "      <td>Jantar Mantar</td>\n",
       "      <td>Observatory</td>\n",
       "      <td>1724</td>\n",
       "      <td>2.0</td>\n",
       "      <td>4.2</td>\n",
       "      <td>15</td>\n",
       "      <td>Yes</td>\n",
       "      <td>NaN</td>\n",
       "      <td>Scientific</td>\n",
       "      <td>Yes</td>\n",
       "      <td>0.31</td>\n",
       "      <td>Morning</td>\n",
       "    </tr>\n",
       "  </tbody>\n",
       "</table>\n",
       "</div>"
      ],
      "text/plain": [
       "   Unnamed: 0      Zone  State   City                  Name          Type  \\\n",
       "0           0  Northern  Delhi  Delhi            India Gate  War Memorial   \n",
       "1           1  Northern  Delhi  Delhi        Humayun's Tomb          Tomb   \n",
       "2           2  Northern  Delhi  Delhi     Akshardham Temple        Temple   \n",
       "3           3  Northern  Delhi  Delhi  Waste to Wonder Park    Theme Park   \n",
       "4           4  Northern  Delhi  Delhi         Jantar Mantar   Observatory   \n",
       "\n",
       "  Establishment Year  time needed to visit in hrs  Google review rating  \\\n",
       "0               1921                          0.5                   4.6   \n",
       "1               1572                          2.0                   4.5   \n",
       "2               2005                          5.0                   4.6   \n",
       "3               2019                          2.0                   4.1   \n",
       "4               1724                          2.0                   4.2   \n",
       "\n",
       "   Entrance Fee in INR Airport with 50km Radius Weekly Off   Significance  \\\n",
       "0                    0                      Yes        NaN     Historical   \n",
       "1                   30                      Yes        NaN     Historical   \n",
       "2                   60                      Yes        NaN      Religious   \n",
       "3                   50                      Yes     Monday  Environmental   \n",
       "4                   15                      Yes        NaN     Scientific   \n",
       "\n",
       "  DSLR Allowed  Number of google review in lakhs Best Time to visit  \n",
       "0          Yes                              2.60            Evening  \n",
       "1          Yes                              0.40          Afternoon  \n",
       "2           No                              0.40          Afternoon  \n",
       "3          Yes                              0.27            Evening  \n",
       "4          Yes                              0.31            Morning  "
      ]
     },
     "execution_count": 6,
     "metadata": {},
     "output_type": "execute_result"
    }
   ],
   "source": [
    "df.head()"
   ]
  },
  {
   "cell_type": "code",
   "execution_count": 7,
   "metadata": {},
   "outputs": [],
   "source": [
    "# def extract_coordinates(text):\n",
    "#     # First pattern: Standard decimal coordinates\n",
    "#     standard_pattern = r\"([-+]?\\d*\\.\\d+|\\d+\\.?\\d*),\\s*([-+]?\\d*\\.\\d+|\\d+\\.?\\d*)\"\n",
    "#     # Second pattern: Coordinates with symbols and directions\n",
    "#     directional_pattern = r\"([-+]?\\d*\\.\\d+|\\d+\\.?\\d*)°?\\s*([NSEW])?,\\s*([-+]?\\d*\\.\\d+|\\d+\\.?\\d*)°?\\s*([NSEW])?\"\n",
    "\n",
    "#     # Try matching the standard format\n",
    "#     match = re.search(standard_pattern, text)\n",
    "#     if match:\n",
    "#         return float(match.group(1)), float(match.group(2))\n",
    "\n",
    "#     # Try matching the directional format\n",
    "#     match = re.search(directional_pattern, text)\n",
    "#     if match:\n",
    "#         lat = float(match.group(1)) * (-1 if match.group(2) in ['S', 'W'] else 1)\n",
    "#         lon = float(match.group(3)) * (-1 if match.group(4) in ['S', 'W'] else 1)\n",
    "#         return lat, lon\n",
    "\n",
    "#     # If no match, return None\n",
    "#     return None, None\n"
   ]
  },
  {
   "cell_type": "code",
   "execution_count": 8,
   "metadata": {},
   "outputs": [],
   "source": [
    "def extract_coordinates(text):\n",
    "    loc = Nominatim(user_agent=\"GetLoc\")\n",
    "    getLoc = loc.geocode(text)\n",
    "    if getLoc is None:\n",
    "        return None, None\n",
    "    latitude = getLoc.latitude\n",
    "    longitude = getLoc.longitude\n",
    "    return latitude, longitude\n",
    "\n",
    "    \n",
    "\n"
   ]
  },
  {
   "cell_type": "code",
   "execution_count": 9,
   "metadata": {},
   "outputs": [],
   "source": [
    "latitudes = []\n",
    "longitudes = []\n"
   ]
  },
  {
   "cell_type": "code",
   "execution_count": 20,
   "metadata": {},
   "outputs": [
    {
     "name": "stdout",
     "output_type": "stream",
     "text": [
      "Latitude: 53.4617138\n",
      "Longitude: -113.597735\n",
      "Latitude: 32.3160963\n",
      "Longitude: 77.1565572\n",
      "Latitude: 32.2324387\n",
      "Longitude: 76.32444468919702\n",
      "No coordinates found in the text.\n",
      "Latitude: 35.698234549999995\n",
      "Longitude: 139.7650281388389\n",
      "Latitude: 31.79683345\n",
      "Longitude: 77.72392692104759\n",
      "No coordinates found in the text.\n",
      "Latitude: 31.353343799999998\n",
      "Longitude: 78.35401031069776\n",
      "Latitude: 32.08670455\n",
      "Longitude: 76.2533449080113\n",
      "Latitude: -32.6622727\n",
      "Longitude: 152.155692\n",
      "Latitude: 31.7544774\n",
      "Longitude: 77.10164126305024\n",
      "Latitude: 43.6312614\n",
      "Longitude: 21.8782077\n",
      "No coordinates found in the text.\n",
      "Latitude: 32.0269237\n",
      "Longitude: 77.3449068\n",
      "Latitude: -5.0551\n",
      "Longitude: 120.065\n",
      "No coordinates found in the text.\n",
      "Latitude: 31.5374898\n",
      "Longitude: 77.41667932499999\n",
      "Latitude: 31.094199449999998\n",
      "Longitude: 77.27801970443878\n",
      "Latitude: 29.3855849\n",
      "Longitude: 79.46047976260145\n",
      "Latitude: 30.1259181\n",
      "Longitude: 78.328529\n",
      "Latitude: 29.9566381\n",
      "Longitude: 78.1708619\n",
      "Latitude: 51.502988\n",
      "Longitude: -2.6371754\n",
      "No coordinates found in the text.\n",
      "Latitude: 30.5487026\n",
      "Longitude: 79.5737933\n",
      "Latitude: 26.9913594\n",
      "Longitude: 75.8521042\n",
      "No coordinates found in the text.\n",
      "No coordinates found in the text.\n",
      "Latitude: 29.5574752\n",
      "Longitude: 78.84249502753302\n",
      "Latitude: 30.9944345\n",
      "Longitude: 78.9411466\n",
      "No coordinates found in the text.\n",
      "Latitude: 30.7056798\n",
      "Longitude: 79.5958552\n",
      "Latitude: 27.1750075\n",
      "Longitude: 78.04210126365584\n",
      "Latitude: 25.31082185\n",
      "Longitude: 83.01066789744189\n",
      "Latitude: 26.868644850000003\n",
      "Longitude: 80.91249604060158\n",
      "No coordinates found in the text.\n",
      "Latitude: 26.7956398\n",
      "Longitude: 82.19457567353146\n",
      "Latitude: 22.7180149\n",
      "Longitude: 75.855234\n",
      "Latitude: 8.0779577\n",
      "Longitude: 77.55063025588254\n",
      "Latitude: 25.4573176\n",
      "Longitude: 78.5754799\n",
      "No coordinates found in the text.\n",
      "Latitude: 27.0943123\n",
      "Longitude: 77.6627939\n",
      "Latitude: 28.556986600000002\n",
      "Longitude: 77.30900309623888\n",
      "Latitude: 27.92989525\n",
      "Longitude: 78.06373238569502\n",
      "No coordinates found in the text.\n",
      "No coordinates found in the text.\n",
      "Latitude: 34.11367785\n",
      "Longitude: 74.8699911038808\n",
      "Latitude: 33.706991\n",
      "Longitude: 78.82083629049578\n",
      "No coordinates found in the text.\n",
      "Latitude: 33.027399\n",
      "Longitude: 74.945375\n",
      "No coordinates found in the text.\n"
     ]
    }
   ],
   "source": [
    "for text in df.iloc[150:200]['Name']:\n",
    "    latitude, longitude = extract_coordinates(text)\n",
    "    if latitude and longitude != None:\n",
    "        print(f\"Latitude: {latitude}\")\n",
    "        latitudes.append(latitude)\n",
    "        print(f\"Longitude: {longitude}\")\n",
    "        longitudes.append(longitude)\n",
    "\n",
    "    else:\n",
    "        print(\"No coordinates found in the text.\")\n",
    "        latitudes.append(None)\n",
    "        longitudes.append(None)\n",
    "\n",
    "\n"
   ]
  },
  {
   "cell_type": "code",
   "execution_count": null,
   "metadata": {},
   "outputs": [],
   "source": [
    "# value = df.at[51,'latitude']\n",
    "# value"
   ]
  },
  {
   "cell_type": "code",
   "execution_count": 23,
   "metadata": {},
   "outputs": [
    {
     "name": "stdout",
     "output_type": "stream",
     "text": [
      "Data has been saved to 'coordinates.pkl'\n"
     ]
    }
   ],
   "source": [
    "# Save data to a Pickle file\n",
    "with open('coordinates.pkl', 'wb') as file:\n",
    "    pickle.dump((latitudes, longitudes), file)\n",
    "\n",
    "print(\"Data has been saved to 'coordinates.pkl'\")"
   ]
  },
  {
   "cell_type": "code",
   "execution_count": 24,
   "metadata": {},
   "outputs": [
    {
     "name": "stdout",
     "output_type": "stream",
     "text": [
      "Latitudes: 50\n",
      "Longitudes: 50\n"
     ]
    }
   ],
   "source": [
    "# Load data from the Pickle file\n",
    "with open('coordinates.pkl', 'rb') as file:\n",
    "    latitudes, longitudes = pickle.load(file)\n",
    "# Print the extracted data\n",
    "print(\"Latitudes:\", len(latitudes))\n",
    "print(\"Longitudes:\", len(longitudes))"
   ]
  },
  {
   "cell_type": "code",
   "execution_count": null,
   "metadata": {},
   "outputs": [],
   "source": [
    "df['latitude'] = latitudes\n",
    "df['longitude'] = longitudes"
   ]
  },
  {
   "cell_type": "code",
   "execution_count": null,
   "metadata": {},
   "outputs": [],
   "source": [
    "df['country'] = ['Nepal'] * len(longitudes)\n",
    "df['category'] = ['Hiking Trails'] * len(longitudes)"
   ]
  },
  {
   "cell_type": "code",
   "execution_count": null,
   "metadata": {},
   "outputs": [
    {
     "data": {
      "text/html": [
       "<div>\n",
       "<style scoped>\n",
       "    .dataframe tbody tr th:only-of-type {\n",
       "        vertical-align: middle;\n",
       "    }\n",
       "\n",
       "    .dataframe tbody tr th {\n",
       "        vertical-align: top;\n",
       "    }\n",
       "\n",
       "    .dataframe thead th {\n",
       "        text-align: right;\n",
       "    }\n",
       "</style>\n",
       "<table border=\"1\" class=\"dataframe\">\n",
       "  <thead>\n",
       "    <tr style=\"text-align: right;\">\n",
       "      <th></th>\n",
       "      <th>Name</th>\n",
       "      <th>Description</th>\n",
       "      <th>longitude</th>\n",
       "      <th>latitude</th>\n",
       "      <th>category</th>\n",
       "      <th>country</th>\n",
       "    </tr>\n",
       "  </thead>\n",
       "  <tbody>\n",
       "    <tr>\n",
       "      <th>0</th>\n",
       "      <td>Maligaun hiking trail</td>\n",
       "      <td>Maligaun Viewpoint, located at an elevation of...</td>\n",
       "      <td>85.443946</td>\n",
       "      <td>27.641183</td>\n",
       "      <td>Hiking Trails</td>\n",
       "      <td>Nepal</td>\n",
       "    </tr>\n",
       "    <tr>\n",
       "      <th>1</th>\n",
       "      <td>A short hike to Doleshwor Mahadev temple, Bhak...</td>\n",
       "      <td>Doleshwor Mahadev temple hike is also a warmin...</td>\n",
       "      <td>85.438449</td>\n",
       "      <td>27.638809</td>\n",
       "      <td>Hiking Trails</td>\n",
       "      <td>Nepal</td>\n",
       "    </tr>\n",
       "    <tr>\n",
       "      <th>2</th>\n",
       "      <td>Ranikot hike: one breathtaking hike to the hil...</td>\n",
       "      <td>Ranikot: a blend of nature and adventure\\nRani...</td>\n",
       "      <td>85.427528</td>\n",
       "      <td>27.624751</td>\n",
       "      <td>Hiking Trails</td>\n",
       "      <td>Nepal</td>\n",
       "    </tr>\n",
       "    <tr>\n",
       "      <th>3</th>\n",
       "      <td>Stepping out from Nagarkot to Changunarayan</td>\n",
       "      <td>Since Bhaktapur lies within the territory of t...</td>\n",
       "      <td>85.518265</td>\n",
       "      <td>27.716509</td>\n",
       "      <td>Hiking Trails</td>\n",
       "      <td>Nepal</td>\n",
       "    </tr>\n",
       "    <tr>\n",
       "      <th>4</th>\n",
       "      <td>Pilot Baba Hike: one hike to the southern hills</td>\n",
       "      <td>On the very south of Bhaktapur city, in betwee...</td>\n",
       "      <td>85.422573</td>\n",
       "      <td>27.640425</td>\n",
       "      <td>Hiking Trails</td>\n",
       "      <td>Nepal</td>\n",
       "    </tr>\n",
       "  </tbody>\n",
       "</table>\n",
       "</div>"
      ],
      "text/plain": [
       "                                                Name  \\\n",
       "0                              Maligaun hiking trail   \n",
       "1  A short hike to Doleshwor Mahadev temple, Bhak...   \n",
       "2  Ranikot hike: one breathtaking hike to the hil...   \n",
       "3        Stepping out from Nagarkot to Changunarayan   \n",
       "4    Pilot Baba Hike: one hike to the southern hills   \n",
       "\n",
       "                                         Description  longitude   latitude  \\\n",
       "0  Maligaun Viewpoint, located at an elevation of...  85.443946  27.641183   \n",
       "1  Doleshwor Mahadev temple hike is also a warmin...  85.438449  27.638809   \n",
       "2  Ranikot: a blend of nature and adventure\\nRani...  85.427528  27.624751   \n",
       "3  Since Bhaktapur lies within the territory of t...  85.518265  27.716509   \n",
       "4  On the very south of Bhaktapur city, in betwee...  85.422573  27.640425   \n",
       "\n",
       "        category country  \n",
       "0  Hiking Trails   Nepal  \n",
       "1  Hiking Trails   Nepal  \n",
       "2  Hiking Trails   Nepal  \n",
       "3  Hiking Trails   Nepal  \n",
       "4  Hiking Trails   Nepal  "
      ]
     },
     "execution_count": 132,
     "metadata": {},
     "output_type": "execute_result"
    }
   ],
   "source": [
    "filtered_df = df[['Name', 'Description', 'longitude', 'latitude','category', 'country']]\n",
    "filtered_df.head()\n"
   ]
  },
  {
   "cell_type": "code",
   "execution_count": null,
   "metadata": {},
   "outputs": [
    {
     "data": {
      "text/html": [
       "<div>\n",
       "<style scoped>\n",
       "    .dataframe tbody tr th:only-of-type {\n",
       "        vertical-align: middle;\n",
       "    }\n",
       "\n",
       "    .dataframe tbody tr th {\n",
       "        vertical-align: top;\n",
       "    }\n",
       "\n",
       "    .dataframe thead th {\n",
       "        text-align: right;\n",
       "    }\n",
       "</style>\n",
       "<table border=\"1\" class=\"dataframe\">\n",
       "  <thead>\n",
       "    <tr style=\"text-align: right;\">\n",
       "      <th></th>\n",
       "      <th>name</th>\n",
       "      <th>description</th>\n",
       "      <th>longitude</th>\n",
       "      <th>latitude</th>\n",
       "      <th>category</th>\n",
       "      <th>country</th>\n",
       "    </tr>\n",
       "  </thead>\n",
       "  <tbody>\n",
       "    <tr>\n",
       "      <th>0</th>\n",
       "      <td>Maligaun hiking trail</td>\n",
       "      <td>Maligaun Viewpoint, located at an elevation of...</td>\n",
       "      <td>85.443946</td>\n",
       "      <td>27.641183</td>\n",
       "      <td>Hiking Trails</td>\n",
       "      <td>Nepal</td>\n",
       "    </tr>\n",
       "    <tr>\n",
       "      <th>1</th>\n",
       "      <td>A short hike to Doleshwor Mahadev temple, Bhak...</td>\n",
       "      <td>Doleshwor Mahadev temple hike is also a warmin...</td>\n",
       "      <td>85.438449</td>\n",
       "      <td>27.638809</td>\n",
       "      <td>Hiking Trails</td>\n",
       "      <td>Nepal</td>\n",
       "    </tr>\n",
       "    <tr>\n",
       "      <th>2</th>\n",
       "      <td>Ranikot hike: one breathtaking hike to the hil...</td>\n",
       "      <td>Ranikot: a blend of nature and adventure\\nRani...</td>\n",
       "      <td>85.427528</td>\n",
       "      <td>27.624751</td>\n",
       "      <td>Hiking Trails</td>\n",
       "      <td>Nepal</td>\n",
       "    </tr>\n",
       "    <tr>\n",
       "      <th>3</th>\n",
       "      <td>Stepping out from Nagarkot to Changunarayan</td>\n",
       "      <td>Since Bhaktapur lies within the territory of t...</td>\n",
       "      <td>85.518265</td>\n",
       "      <td>27.716509</td>\n",
       "      <td>Hiking Trails</td>\n",
       "      <td>Nepal</td>\n",
       "    </tr>\n",
       "    <tr>\n",
       "      <th>4</th>\n",
       "      <td>Pilot Baba Hike: one hike to the southern hills</td>\n",
       "      <td>On the very south of Bhaktapur city, in betwee...</td>\n",
       "      <td>85.422573</td>\n",
       "      <td>27.640425</td>\n",
       "      <td>Hiking Trails</td>\n",
       "      <td>Nepal</td>\n",
       "    </tr>\n",
       "  </tbody>\n",
       "</table>\n",
       "</div>"
      ],
      "text/plain": [
       "                                                name  \\\n",
       "0                              Maligaun hiking trail   \n",
       "1  A short hike to Doleshwor Mahadev temple, Bhak...   \n",
       "2  Ranikot hike: one breathtaking hike to the hil...   \n",
       "3        Stepping out from Nagarkot to Changunarayan   \n",
       "4    Pilot Baba Hike: one hike to the southern hills   \n",
       "\n",
       "                                         description  longitude   latitude  \\\n",
       "0  Maligaun Viewpoint, located at an elevation of...  85.443946  27.641183   \n",
       "1  Doleshwor Mahadev temple hike is also a warmin...  85.438449  27.638809   \n",
       "2  Ranikot: a blend of nature and adventure\\nRani...  85.427528  27.624751   \n",
       "3  Since Bhaktapur lies within the territory of t...  85.518265  27.716509   \n",
       "4  On the very south of Bhaktapur city, in betwee...  85.422573  27.640425   \n",
       "\n",
       "        category country  \n",
       "0  Hiking Trails   Nepal  \n",
       "1  Hiking Trails   Nepal  \n",
       "2  Hiking Trails   Nepal  \n",
       "3  Hiking Trails   Nepal  \n",
       "4  Hiking Trails   Nepal  "
      ]
     },
     "execution_count": 133,
     "metadata": {},
     "output_type": "execute_result"
    }
   ],
   "source": [
    "filtered_df.columns = ['name','description', 'longitude', 'latitude', 'category','country'] \n",
    "filtered_df"
   ]
  },
  {
   "cell_type": "code",
   "execution_count": null,
   "metadata": {},
   "outputs": [
    {
     "name": "stdout",
     "output_type": "stream",
     "text": [
      "0\n",
      "0\n"
     ]
    }
   ],
   "source": [
    "print(filtered_df['longitude'].isnull().sum())\n",
    "print(filtered_df['longitude'].isnull().sum())\n",
    "\n"
   ]
  },
  {
   "cell_type": "code",
   "execution_count": null,
   "metadata": {},
   "outputs": [
    {
     "name": "stderr",
     "output_type": "stream",
     "text": [
      "C:\\Users\\Lenovo\\AppData\\Local\\Temp\\ipykernel_4164\\3071754169.py:7: SettingWithCopyWarning: \n",
      "A value is trying to be set on a copy of a slice from a DataFrame.\n",
      "Try using .loc[row_indexer,col_indexer] = value instead\n",
      "\n",
      "See the caveats in the documentation: https://pandas.pydata.org/pandas-docs/stable/user_guide/indexing.html#returning-a-view-versus-a-copy\n",
      "  filtered_df['name'] = filtered_df['name'].apply(extract_first_part)\n"
     ]
    }
   ],
   "source": [
    "# Function to extract the first part of the string before the semicolon or colon\n",
    "def extract_first_part(text):\n",
    "    # Split by both semicolon and colon, and return the first part\n",
    "    return text.split(';')[0].split(':')[0]\n",
    "\n",
    "# Apply the function to the 'name' column and create a new column 'extracted_name'\n",
    "filtered_df['name'] = filtered_df['name'].apply(extract_first_part)"
   ]
  },
  {
   "cell_type": "code",
   "execution_count": null,
   "metadata": {},
   "outputs": [
    {
     "name": "stdout",
     "output_type": "stream",
     "text": [
      "Number of unique countries: 1\n"
     ]
    }
   ],
   "source": [
    "print(f\"Number of unique countries: {filtered_df['country'].nunique()}\")"
   ]
  },
  {
   "cell_type": "code",
   "execution_count": null,
   "metadata": {},
   "outputs": [],
   "source": [
    "# df= df.groupby('country')['name'].nunique()\n",
    "# df"
   ]
  },
  {
   "cell_type": "code",
   "execution_count": null,
   "metadata": {},
   "outputs": [],
   "source": [
    "asian_countries = [\n",
    "    \"Afghanistan\", \"Armenia\", \"Azerbaijan\", \"Bahrain\", \"Bangladesh\", \"Bhutan\",\n",
    "    \"Brunei\", \"Cambodia\", \"China\", \"Cyprus\", \"Georgia\", \"India\", \"Indonesia\",\n",
    "    \"Iran\", \"Iraq\", \"Israel\", \"Japan\", \"Jordan\", \"Kazakhstan\", \"Kuwait\",\n",
    "    \"Kyrgyzstan\", \"Laos\", \"Lebanon\", \"Malaysia\", \"Maldives\", \"Mongolia\",\n",
    "    \"Myanmar (Burma)\", \"Nepal\", \"North Korea\", \"Oman\", \"Pakistan\", \"Palestine\",\n",
    "    \"Philippines\", \"Qatar\", \"Saudi Arabia\", \"Singapore\", \"South Korea\",\n",
    "    \"Sri Lanka\", \"Syria\", \"Tajikistan\", \"Thailand\", \"Timor-Leste\", \"Turkey\",\n",
    "    \"Turkmenistan\", \"United Arab Emirates\", \"Uzbekistan\", \"Vietnam\", \"Yemen\"\n",
    "]"
   ]
  },
  {
   "cell_type": "code",
   "execution_count": null,
   "metadata": {},
   "outputs": [
    {
     "data": {
      "text/plain": [
       "48"
      ]
     },
     "execution_count": 139,
     "metadata": {},
     "output_type": "execute_result"
    }
   ],
   "source": [
    "len(asian_countries)"
   ]
  },
  {
   "cell_type": "code",
   "execution_count": null,
   "metadata": {},
   "outputs": [
    {
     "data": {
      "text/html": [
       "<div>\n",
       "<style scoped>\n",
       "    .dataframe tbody tr th:only-of-type {\n",
       "        vertical-align: middle;\n",
       "    }\n",
       "\n",
       "    .dataframe tbody tr th {\n",
       "        vertical-align: top;\n",
       "    }\n",
       "\n",
       "    .dataframe thead th {\n",
       "        text-align: right;\n",
       "    }\n",
       "</style>\n",
       "<table border=\"1\" class=\"dataframe\">\n",
       "  <thead>\n",
       "    <tr style=\"text-align: right;\">\n",
       "      <th></th>\n",
       "      <th>name</th>\n",
       "      <th>description</th>\n",
       "      <th>longitude</th>\n",
       "      <th>latitude</th>\n",
       "      <th>category</th>\n",
       "      <th>country</th>\n",
       "    </tr>\n",
       "  </thead>\n",
       "  <tbody>\n",
       "    <tr>\n",
       "      <th>0</th>\n",
       "      <td>Maligaun hiking trail</td>\n",
       "      <td>Maligaun Viewpoint, located at an elevation of...</td>\n",
       "      <td>85.443946</td>\n",
       "      <td>27.641183</td>\n",
       "      <td>Hiking Trails</td>\n",
       "      <td>Nepal</td>\n",
       "    </tr>\n",
       "    <tr>\n",
       "      <th>1</th>\n",
       "      <td>A short hike to Doleshwor Mahadev temple, Bhak...</td>\n",
       "      <td>Doleshwor Mahadev temple hike is also a warmin...</td>\n",
       "      <td>85.438449</td>\n",
       "      <td>27.638809</td>\n",
       "      <td>Hiking Trails</td>\n",
       "      <td>Nepal</td>\n",
       "    </tr>\n",
       "    <tr>\n",
       "      <th>2</th>\n",
       "      <td>Ranikot hike</td>\n",
       "      <td>Ranikot: a blend of nature and adventure\\nRani...</td>\n",
       "      <td>85.427528</td>\n",
       "      <td>27.624751</td>\n",
       "      <td>Hiking Trails</td>\n",
       "      <td>Nepal</td>\n",
       "    </tr>\n",
       "    <tr>\n",
       "      <th>3</th>\n",
       "      <td>Stepping out from Nagarkot to Changunarayan</td>\n",
       "      <td>Since Bhaktapur lies within the territory of t...</td>\n",
       "      <td>85.518265</td>\n",
       "      <td>27.716509</td>\n",
       "      <td>Hiking Trails</td>\n",
       "      <td>Nepal</td>\n",
       "    </tr>\n",
       "    <tr>\n",
       "      <th>4</th>\n",
       "      <td>Pilot Baba Hike</td>\n",
       "      <td>On the very south of Bhaktapur city, in betwee...</td>\n",
       "      <td>85.422573</td>\n",
       "      <td>27.640425</td>\n",
       "      <td>Hiking Trails</td>\n",
       "      <td>Nepal</td>\n",
       "    </tr>\n",
       "  </tbody>\n",
       "</table>\n",
       "</div>"
      ],
      "text/plain": [
       "                                                name  \\\n",
       "0                              Maligaun hiking trail   \n",
       "1  A short hike to Doleshwor Mahadev temple, Bhak...   \n",
       "2                                       Ranikot hike   \n",
       "3        Stepping out from Nagarkot to Changunarayan   \n",
       "4                                    Pilot Baba Hike   \n",
       "\n",
       "                                         description  longitude   latitude  \\\n",
       "0  Maligaun Viewpoint, located at an elevation of...  85.443946  27.641183   \n",
       "1  Doleshwor Mahadev temple hike is also a warmin...  85.438449  27.638809   \n",
       "2  Ranikot: a blend of nature and adventure\\nRani...  85.427528  27.624751   \n",
       "3  Since Bhaktapur lies within the territory of t...  85.518265  27.716509   \n",
       "4  On the very south of Bhaktapur city, in betwee...  85.422573  27.640425   \n",
       "\n",
       "        category country  \n",
       "0  Hiking Trails   Nepal  \n",
       "1  Hiking Trails   Nepal  \n",
       "2  Hiking Trails   Nepal  \n",
       "3  Hiking Trails   Nepal  \n",
       "4  Hiking Trails   Nepal  "
      ]
     },
     "execution_count": 140,
     "metadata": {},
     "output_type": "execute_result"
    }
   ],
   "source": [
    "filtered_df = filtered_df[filtered_df['country'].isin(asian_countries)]\n",
    "filtered_df.head()\n",
    "                 "
   ]
  },
  {
   "cell_type": "code",
   "execution_count": null,
   "metadata": {},
   "outputs": [
    {
     "name": "stdout",
     "output_type": "stream",
     "text": [
      "<class 'pandas.core.frame.DataFrame'>\n",
      "RangeIndex: 5 entries, 0 to 4\n",
      "Data columns (total 6 columns):\n",
      " #   Column       Non-Null Count  Dtype  \n",
      "---  ------       --------------  -----  \n",
      " 0   name         5 non-null      object \n",
      " 1   description  5 non-null      object \n",
      " 2   longitude    5 non-null      float64\n",
      " 3   latitude     5 non-null      float64\n",
      " 4   category     5 non-null      object \n",
      " 5   country      5 non-null      object \n",
      "dtypes: float64(2), object(4)\n",
      "memory usage: 372.0+ bytes\n"
     ]
    }
   ],
   "source": [
    "filtered_df.info()"
   ]
  },
  {
   "cell_type": "code",
   "execution_count": null,
   "metadata": {},
   "outputs": [],
   "source": [
    "# grouped_df= filtered_df.groupby('country')['name'].nunique(\n",
    "filtered_df.to_csv('cleaned/hiking_trails_cleaned.csv')"
   ]
  }
 ],
 "metadata": {
  "kernelspec": {
   "display_name": "venv",
   "language": "python",
   "name": "python3"
  },
  "language_info": {
   "codemirror_mode": {
    "name": "ipython",
    "version": 3
   },
   "file_extension": ".py",
   "mimetype": "text/x-python",
   "name": "python",
   "nbconvert_exporter": "python",
   "pygments_lexer": "ipython3",
   "version": "3.11.3"
  }
 },
 "nbformat": 4,
 "nbformat_minor": 2
}
