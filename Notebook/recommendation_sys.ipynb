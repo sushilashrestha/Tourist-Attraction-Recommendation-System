{
 "cells": [
  {
   "cell_type": "markdown",
   "metadata": {},
   "source": [
    "# Import Libraries"
   ]
  },
  {
   "cell_type": "code",
   "execution_count": 31,
   "metadata": {},
   "outputs": [],
   "source": [
    "import os\n",
    "\n",
    "import pandas as pd \n",
    "import numpy as np \n",
    "import matplotlib.pyplot as plt\n",
    "%matplotlib inline\n",
    "\n",
    "from sklearn.preprocessing import OneHotEncoder\n",
    "from sklearn.feature_extraction.text import TfidfVectorizer\n",
    "from sklearn.metrics.pairwise import cosine_similarity\n",
    "from sklearn.manifold import TSNE\n"
   ]
  },
  {
   "cell_type": "code",
   "execution_count": null,
   "metadata": {},
   "outputs": [],
   "source": []
  },
  {
   "cell_type": "code",
   "execution_count": 3,
   "metadata": {},
   "outputs": [
    {
     "name": "stdout",
     "output_type": "stream",
     "text": [
      "       Unnamed: 0                                             name  \\\n",
      "0               0                     Shree Vishwokarma Agam Chhen   \n",
      "1               1                              Aadipadma Mahavihar   \n",
      "2               2                    Lokeshwor temple of Bhaktapur   \n",
      "3               3                  Indra Varna Mahavihar (Inabaha)   \n",
      "4               4        Mangal Dharmadweep Mahavihar (Jhaur Bahi)   \n",
      "...           ...                                              ...   \n",
      "36523        1142                        Old Walled City of Shibam   \n",
      "36524        1143                               Old City of Sana'a   \n",
      "36525        1144                           Historic Town of Zabid   \n",
      "36526        1145                              Socotra Archipelago   \n",
      "36527        1146  Landmarks of the Ancient Kingdom of Saba, Marib   \n",
      "\n",
      "                                             description  longitude  \\\n",
      "0      Shree Vishwakarma Agam Chhen, located at Tuchi...  85.430630   \n",
      "1      Aadipadma Mahavihar is one of Bhaktapur’s olde...  85.435271   \n",
      "2      Bhaktapur’s Lokeshwor temple, also known as Ka...  85.425318   \n",
      "3      Indra Varna Mahavihar locally called Inabaha a...  85.434118   \n",
      "4      Mangal Dharmadweep Mahavihar, which is located...  85.433093   \n",
      "...                                                  ...        ...   \n",
      "36523  <p>Surrounded by a fortified wall, the 16th-ce...  48.626670   \n",
      "36524  <p>Situated in a mountain valley at an altitud...  44.208056   \n",
      "36525  <p>Zabid's domestic and military architecture ...  43.315528   \n",
      "36526  <p>Socotra Archipelago, in the northwest India...  53.833333   \n",
      "36527  <p>The Landmarks of the Ancient Kingdom of Sab...  45.335228   \n",
      "\n",
      "        latitude       category country  Unnamed: 0.1  \n",
      "0      27.673888  Heritage Site   Nepal           NaN  \n",
      "1      27.673311  Heritage Site   Nepal           NaN  \n",
      "2      27.672076  Heritage Site   Nepal           NaN  \n",
      "3      27.672373  Heritage Site   Nepal           NaN  \n",
      "4      27.672364  Heritage Site   Nepal           NaN  \n",
      "...          ...            ...     ...           ...  \n",
      "36523  15.926940       Cultural   Yemen           NaN  \n",
      "36524  15.355556       Cultural   Yemen           NaN  \n",
      "36525  14.195333       Cultural   Yemen           NaN  \n",
      "36526  12.500000        Natural   Yemen           NaN  \n",
      "36527  15.426878       Cultural   Yemen           NaN  \n",
      "\n",
      "[36528 rows x 8 columns]\n"
     ]
    }
   ],
   "source": [
    "# Loading all the cleaned data in different csv files\n",
    "# Specify the folder containing the CSV files\n",
    "folder_path = 'Dataset/Cleaned'\n",
    "\n",
    "# Initialize an empty list to store DataFrames\n",
    "dataframes = []\n",
    "\n",
    "# Iterate over each file in the folder\n",
    "for file_name in os.listdir(folder_path):\n",
    "    if file_name.endswith('.csv'):  # Check if the file is a CSV\n",
    "        file_path = os.path.join(folder_path, file_name)\n",
    "        df = pd.read_csv(file_path)  # Load CSV into a DataFrame\n",
    "        dataframes.append(df)  # Append the DataFrame to the list\n",
    "\n",
    "# Concatenate all DataFrames into one\n",
    "combined_df = pd.concat(dataframes, ignore_index=True)\n",
    "\n",
    "# Display the combined DataFrame\n",
    "print(combined_df)"
   ]
  },
  {
   "cell_type": "code",
   "execution_count": 4,
   "metadata": {},
   "outputs": [
    {
     "name": "stdout",
     "output_type": "stream",
     "text": [
      "<class 'pandas.core.frame.DataFrame'>\n",
      "RangeIndex: 36528 entries, 0 to 36527\n",
      "Data columns (total 8 columns):\n",
      " #   Column        Non-Null Count  Dtype  \n",
      "---  ------        --------------  -----  \n",
      " 0   Unnamed: 0    36528 non-null  int64  \n",
      " 1   name          36528 non-null  object \n",
      " 2   description   1170 non-null   object \n",
      " 3   longitude     36528 non-null  float64\n",
      " 4   latitude      36528 non-null  float64\n",
      " 5   category      36528 non-null  object \n",
      " 6   country       36528 non-null  object \n",
      " 7   Unnamed: 0.1  248 non-null    float64\n",
      "dtypes: float64(3), int64(1), object(4)\n",
      "memory usage: 2.2+ MB\n"
     ]
    }
   ],
   "source": [
    "combined_df.info()"
   ]
  },
  {
   "cell_type": "code",
   "execution_count": 5,
   "metadata": {},
   "outputs": [],
   "source": [
    "combined_df.drop(columns = ['Unnamed: 0', 'Unnamed: 0.1'],inplace=True)"
   ]
  },
  {
   "cell_type": "code",
   "execution_count": 6,
   "metadata": {},
   "outputs": [
    {
     "data": {
      "text/plain": [
       "37"
      ]
     },
     "execution_count": 6,
     "metadata": {},
     "output_type": "execute_result"
    }
   ],
   "source": [
    "# df= combined_df.groupby('country')['name'].nunique()\n",
    "combined_df['country'].nunique()"
   ]
  },
  {
   "cell_type": "code",
   "execution_count": 7,
   "metadata": {},
   "outputs": [],
   "source": [
    "asian_countries = [\n",
    "    \"Afghanistan\", \"Armenia\", \"Azerbaijan\", \"Bahrain\", \"Bangladesh\", \"Bhutan\",\n",
    "    \"Brunei\", \"Cambodia\", \"China\", \"Cyprus\", \"Georgia\", \"India\", \"Indonesia\",\n",
    "    \"Iran\", \"Iraq\", \"Israel\", \"Japan\", \"Jordan\", \"Kazakhstan\", \"Kuwait\",\n",
    "    \"Kyrgyzstan\", \"Laos\", \"Lebanon\", \"Malaysia\", \"Maldives\", \"Mongolia\",\n",
    "    \"Myanmar (Burma)\", \"Nepal\", \"North Korea\", \"Oman\", \"Pakistan\", \"Palestine\",\n",
    "    \"Philippines\", \"Qatar\", \"Saudi Arabia\", \"Singapore\", \"South Korea\",\n",
    "    \"Sri Lanka\", \"Syria\", \"Tajikistan\", \"Thailand\", \"Timor-Leste\", \"Turkey\",\n",
    "    \"Turkmenistan\", \"United Arab Emirates\", \"Uzbekistan\", \"Vietnam\", \"Yemen\"\n",
    "]"
   ]
  },
  {
   "cell_type": "code",
   "execution_count": 8,
   "metadata": {},
   "outputs": [
    {
     "name": "stdout",
     "output_type": "stream",
     "text": [
      "Bhutan\n",
      "Iran\n",
      "Kuwait\n",
      "Laos\n",
      "Maldives\n",
      "Myanmar (Burma)\n",
      "North Korea\n",
      "South Korea\n",
      "Syria\n",
      "Turkey\n",
      "Vietnam\n"
     ]
    }
   ],
   "source": [
    "df_set = set(combined_df['country'])\n",
    "for country in asian_countries:\n",
    "    if country not in df_set:\n",
    "        print(country)"
   ]
  },
  {
   "cell_type": "code",
   "execution_count": 9,
   "metadata": {},
   "outputs": [
    {
     "data": {
      "text/html": [
       "<div>\n",
       "<style scoped>\n",
       "    .dataframe tbody tr th:only-of-type {\n",
       "        vertical-align: middle;\n",
       "    }\n",
       "\n",
       "    .dataframe tbody tr th {\n",
       "        vertical-align: top;\n",
       "    }\n",
       "\n",
       "    .dataframe thead th {\n",
       "        text-align: right;\n",
       "    }\n",
       "</style>\n",
       "<table border=\"1\" class=\"dataframe\">\n",
       "  <thead>\n",
       "    <tr style=\"text-align: right;\">\n",
       "      <th></th>\n",
       "      <th>country</th>\n",
       "      <th>count</th>\n",
       "    </tr>\n",
       "  </thead>\n",
       "  <tbody>\n",
       "    <tr>\n",
       "      <th>0</th>\n",
       "      <td>Indonesia</td>\n",
       "      <td>22898</td>\n",
       "    </tr>\n",
       "    <tr>\n",
       "      <th>1</th>\n",
       "      <td>India</td>\n",
       "      <td>8110</td>\n",
       "    </tr>\n",
       "    <tr>\n",
       "      <th>2</th>\n",
       "      <td>Malaysia</td>\n",
       "      <td>3591</td>\n",
       "    </tr>\n",
       "    <tr>\n",
       "      <th>3</th>\n",
       "      <td>Sri Lanka</td>\n",
       "      <td>763</td>\n",
       "    </tr>\n",
       "    <tr>\n",
       "      <th>4</th>\n",
       "      <td>Singapore</td>\n",
       "      <td>501</td>\n",
       "    </tr>\n",
       "    <tr>\n",
       "      <th>5</th>\n",
       "      <td>Timor-Leste</td>\n",
       "      <td>139</td>\n",
       "    </tr>\n",
       "    <tr>\n",
       "      <th>6</th>\n",
       "      <td>Nepal</td>\n",
       "      <td>112</td>\n",
       "    </tr>\n",
       "    <tr>\n",
       "      <th>7</th>\n",
       "      <td>China</td>\n",
       "      <td>111</td>\n",
       "    </tr>\n",
       "    <tr>\n",
       "      <th>8</th>\n",
       "      <td>Japan</td>\n",
       "      <td>48</td>\n",
       "    </tr>\n",
       "    <tr>\n",
       "      <th>9</th>\n",
       "      <td>Brunei</td>\n",
       "      <td>42</td>\n",
       "    </tr>\n",
       "  </tbody>\n",
       "</table>\n",
       "</div>"
      ],
      "text/plain": [
       "       country  count\n",
       "0    Indonesia  22898\n",
       "1        India   8110\n",
       "2     Malaysia   3591\n",
       "3    Sri Lanka    763\n",
       "4    Singapore    501\n",
       "5  Timor-Leste    139\n",
       "6        Nepal    112\n",
       "7        China    111\n",
       "8        Japan     48\n",
       "9       Brunei     42"
      ]
     },
     "execution_count": 9,
     "metadata": {},
     "output_type": "execute_result"
    }
   ],
   "source": [
    "top10_countries = combined_df['country'].value_counts().reset_index().head(10)\n",
    "top10_countries"
   ]
  },
  {
   "cell_type": "code",
   "execution_count": null,
   "metadata": {},
   "outputs": [],
   "source": []
  },
  {
   "cell_type": "code",
   "execution_count": 10,
   "metadata": {},
   "outputs": [
    {
     "data": {
      "text/html": [
       "<div>\n",
       "<style scoped>\n",
       "    .dataframe tbody tr th:only-of-type {\n",
       "        vertical-align: middle;\n",
       "    }\n",
       "\n",
       "    .dataframe tbody tr th {\n",
       "        vertical-align: top;\n",
       "    }\n",
       "\n",
       "    .dataframe thead th {\n",
       "        text-align: right;\n",
       "    }\n",
       "</style>\n",
       "<table border=\"1\" class=\"dataframe\">\n",
       "  <thead>\n",
       "    <tr style=\"text-align: right;\">\n",
       "      <th></th>\n",
       "      <th>index</th>\n",
       "      <th>name</th>\n",
       "      <th>description</th>\n",
       "      <th>longitude</th>\n",
       "      <th>latitude</th>\n",
       "      <th>category</th>\n",
       "      <th>country</th>\n",
       "    </tr>\n",
       "  </thead>\n",
       "  <tbody>\n",
       "    <tr>\n",
       "      <th>0</th>\n",
       "      <td>0</td>\n",
       "      <td>Shree Vishwokarma Agam Chhen</td>\n",
       "      <td>Shree Vishwakarma Agam Chhen, located at Tuchi...</td>\n",
       "      <td>85.430630</td>\n",
       "      <td>27.673888</td>\n",
       "      <td>Heritage Site</td>\n",
       "      <td>Nepal</td>\n",
       "    </tr>\n",
       "    <tr>\n",
       "      <th>1</th>\n",
       "      <td>1</td>\n",
       "      <td>Aadipadma Mahavihar</td>\n",
       "      <td>Aadipadma Mahavihar is one of Bhaktapur’s olde...</td>\n",
       "      <td>85.435271</td>\n",
       "      <td>27.673311</td>\n",
       "      <td>Heritage Site</td>\n",
       "      <td>Nepal</td>\n",
       "    </tr>\n",
       "    <tr>\n",
       "      <th>2</th>\n",
       "      <td>2</td>\n",
       "      <td>Lokeshwor temple of Bhaktapur</td>\n",
       "      <td>Bhaktapur’s Lokeshwor temple, also known as Ka...</td>\n",
       "      <td>85.425318</td>\n",
       "      <td>27.672076</td>\n",
       "      <td>Heritage Site</td>\n",
       "      <td>Nepal</td>\n",
       "    </tr>\n",
       "    <tr>\n",
       "      <th>3</th>\n",
       "      <td>3</td>\n",
       "      <td>Indra Varna Mahavihar (Inabaha)</td>\n",
       "      <td>Indra Varna Mahavihar locally called Inabaha a...</td>\n",
       "      <td>85.434118</td>\n",
       "      <td>27.672373</td>\n",
       "      <td>Heritage Site</td>\n",
       "      <td>Nepal</td>\n",
       "    </tr>\n",
       "    <tr>\n",
       "      <th>4</th>\n",
       "      <td>4</td>\n",
       "      <td>Mangal Dharmadweep Mahavihar (Jhaur Bahi)</td>\n",
       "      <td>Mangal Dharmadweep Mahavihar, which is located...</td>\n",
       "      <td>85.433093</td>\n",
       "      <td>27.672364</td>\n",
       "      <td>Heritage Site</td>\n",
       "      <td>Nepal</td>\n",
       "    </tr>\n",
       "  </tbody>\n",
       "</table>\n",
       "</div>"
      ],
      "text/plain": [
       "   index                                       name  \\\n",
       "0      0               Shree Vishwokarma Agam Chhen   \n",
       "1      1                        Aadipadma Mahavihar   \n",
       "2      2              Lokeshwor temple of Bhaktapur   \n",
       "3      3            Indra Varna Mahavihar (Inabaha)   \n",
       "4      4  Mangal Dharmadweep Mahavihar (Jhaur Bahi)   \n",
       "\n",
       "                                         description  longitude   latitude  \\\n",
       "0  Shree Vishwakarma Agam Chhen, located at Tuchi...  85.430630  27.673888   \n",
       "1  Aadipadma Mahavihar is one of Bhaktapur’s olde...  85.435271  27.673311   \n",
       "2  Bhaktapur’s Lokeshwor temple, also known as Ka...  85.425318  27.672076   \n",
       "3  Indra Varna Mahavihar locally called Inabaha a...  85.434118  27.672373   \n",
       "4  Mangal Dharmadweep Mahavihar, which is located...  85.433093  27.672364   \n",
       "\n",
       "        category country  \n",
       "0  Heritage Site   Nepal  \n",
       "1  Heritage Site   Nepal  \n",
       "2  Heritage Site   Nepal  \n",
       "3  Heritage Site   Nepal  \n",
       "4  Heritage Site   Nepal  "
      ]
     },
     "execution_count": 10,
     "metadata": {},
     "output_type": "execute_result"
    }
   ],
   "source": [
    "df = combined_df[combined_df['country'] == 'Nepal'].reset_index()\n",
    "df.head()"
   ]
  },
  {
   "cell_type": "code",
   "execution_count": 11,
   "metadata": {},
   "outputs": [
    {
     "name": "stdout",
     "output_type": "stream",
     "text": [
      "<class 'pandas.core.frame.DataFrame'>\n",
      "RangeIndex: 36528 entries, 0 to 36527\n",
      "Data columns (total 6 columns):\n",
      " #   Column       Non-Null Count  Dtype  \n",
      "---  ------       --------------  -----  \n",
      " 0   name         36528 non-null  object \n",
      " 1   description  1170 non-null   object \n",
      " 2   longitude    36528 non-null  float64\n",
      " 3   latitude     36528 non-null  float64\n",
      " 4   category     36528 non-null  object \n",
      " 5   country      36528 non-null  object \n",
      "dtypes: float64(2), object(4)\n",
      "memory usage: 1.7+ MB\n"
     ]
    }
   ],
   "source": [
    "combined_df.info()"
   ]
  },
  {
   "cell_type": "code",
   "execution_count": null,
   "metadata": {},
   "outputs": [
    {
     "data": {
      "text/html": [
       "<div>\n",
       "<style scoped>\n",
       "    .dataframe tbody tr th:only-of-type {\n",
       "        vertical-align: middle;\n",
       "    }\n",
       "\n",
       "    .dataframe tbody tr th {\n",
       "        vertical-align: top;\n",
       "    }\n",
       "\n",
       "    .dataframe thead th {\n",
       "        text-align: right;\n",
       "    }\n",
       "</style>\n",
       "<table border=\"1\" class=\"dataframe\">\n",
       "  <thead>\n",
       "    <tr style=\"text-align: right;\">\n",
       "      <th></th>\n",
       "      <th>country</th>\n",
       "      <th>count</th>\n",
       "    </tr>\n",
       "  </thead>\n",
       "  <tbody>\n",
       "    <tr>\n",
       "      <th>0</th>\n",
       "      <td>Indonesia</td>\n",
       "      <td>20291</td>\n",
       "    </tr>\n",
       "    <tr>\n",
       "      <th>1</th>\n",
       "      <td>India</td>\n",
       "      <td>7670</td>\n",
       "    </tr>\n",
       "    <tr>\n",
       "      <th>2</th>\n",
       "      <td>Malaysia</td>\n",
       "      <td>3134</td>\n",
       "    </tr>\n",
       "    <tr>\n",
       "      <th>3</th>\n",
       "      <td>Sri Lanka</td>\n",
       "      <td>714</td>\n",
       "    </tr>\n",
       "    <tr>\n",
       "      <th>4</th>\n",
       "      <td>Singapore</td>\n",
       "      <td>439</td>\n",
       "    </tr>\n",
       "    <tr>\n",
       "      <th>5</th>\n",
       "      <td>Timor-Leste</td>\n",
       "      <td>126</td>\n",
       "    </tr>\n",
       "    <tr>\n",
       "      <th>6</th>\n",
       "      <td>Nepal</td>\n",
       "      <td>107</td>\n",
       "    </tr>\n",
       "    <tr>\n",
       "      <th>7</th>\n",
       "      <td>China</td>\n",
       "      <td>56</td>\n",
       "    </tr>\n",
       "    <tr>\n",
       "      <th>8</th>\n",
       "      <td>Brunei</td>\n",
       "      <td>42</td>\n",
       "    </tr>\n",
       "    <tr>\n",
       "      <th>9</th>\n",
       "      <td>Japan</td>\n",
       "      <td>24</td>\n",
       "    </tr>\n",
       "  </tbody>\n",
       "</table>\n",
       "</div>"
      ],
      "text/plain": [
       "       country  count\n",
       "0    Indonesia  20291\n",
       "1        India   7670\n",
       "2     Malaysia   3134\n",
       "3    Sri Lanka    714\n",
       "4    Singapore    439\n",
       "5  Timor-Leste    126\n",
       "6        Nepal    107\n",
       "7        China     56\n",
       "8       Brunei     42\n",
       "9        Japan     24"
      ]
     },
     "execution_count": 16,
     "metadata": {},
     "output_type": "execute_result"
    }
   ],
   "source": [
    "top10_countries = combined_df['country'].value_counts().reset_index().head(10)\n",
    "top10_countries"
   ]
  },
  {
   "cell_type": "code",
   "execution_count": null,
   "metadata": {},
   "outputs": [
    {
     "name": "stdout",
     "output_type": "stream",
     "text": [
      "<class 'pandas.core.frame.DataFrame'>\n",
      "Index: 32715 entries, 0 to 36527\n",
      "Data columns (total 6 columns):\n",
      " #   Column       Non-Null Count  Dtype  \n",
      "---  ------       --------------  -----  \n",
      " 0   name         32715 non-null  object \n",
      " 1   description  869 non-null    object \n",
      " 2   longitude    32715 non-null  float64\n",
      " 3   latitude     32715 non-null  float64\n",
      " 4   category     32715 non-null  object \n",
      " 5   country      32715 non-null  object \n",
      "dtypes: float64(2), object(4)\n",
      "memory usage: 1.7+ MB\n"
     ]
    }
   ],
   "source": [
    "combined_df.drop_duplicates(subset ='name',inplace= True)\n",
    "combined_df.info()"
   ]
  },
  {
   "cell_type": "code",
   "execution_count": 43,
   "metadata": {},
   "outputs": [],
   "source": [
    "combined_df.dropna(subset='description', inplace= True)\n",
    "combined_df= combined_df.reset_index(drop=True)\n"
   ]
  },
  {
   "cell_type": "code",
   "execution_count": null,
   "metadata": {},
   "outputs": [
    {
     "data": {
      "text/html": [
       "<div>\n",
       "<style scoped>\n",
       "    .dataframe tbody tr th:only-of-type {\n",
       "        vertical-align: middle;\n",
       "    }\n",
       "\n",
       "    .dataframe tbody tr th {\n",
       "        vertical-align: top;\n",
       "    }\n",
       "\n",
       "    .dataframe thead th {\n",
       "        text-align: right;\n",
       "    }\n",
       "</style>\n",
       "<table border=\"1\" class=\"dataframe\">\n",
       "  <thead>\n",
       "    <tr style=\"text-align: right;\">\n",
       "      <th></th>\n",
       "      <th>country</th>\n",
       "      <th>count</th>\n",
       "    </tr>\n",
       "  </thead>\n",
       "  <tbody>\n",
       "    <tr>\n",
       "      <th>0</th>\n",
       "      <td>India</td>\n",
       "      <td>390</td>\n",
       "    </tr>\n",
       "    <tr>\n",
       "      <th>1</th>\n",
       "      <td>Nepal</td>\n",
       "      <td>107</td>\n",
       "    </tr>\n",
       "    <tr>\n",
       "      <th>2</th>\n",
       "      <td>Indonesia</td>\n",
       "      <td>68</td>\n",
       "    </tr>\n",
       "    <tr>\n",
       "      <th>3</th>\n",
       "      <td>Malaysia</td>\n",
       "      <td>56</td>\n",
       "    </tr>\n",
       "    <tr>\n",
       "      <th>4</th>\n",
       "      <td>China</td>\n",
       "      <td>56</td>\n",
       "    </tr>\n",
       "    <tr>\n",
       "      <th>5</th>\n",
       "      <td>Singapore</td>\n",
       "      <td>26</td>\n",
       "    </tr>\n",
       "    <tr>\n",
       "      <th>6</th>\n",
       "      <td>Japan</td>\n",
       "      <td>24</td>\n",
       "    </tr>\n",
       "    <tr>\n",
       "      <th>7</th>\n",
       "      <td>Sri Lanka</td>\n",
       "      <td>16</td>\n",
       "    </tr>\n",
       "    <tr>\n",
       "      <th>8</th>\n",
       "      <td>Timor-Leste</td>\n",
       "      <td>14</td>\n",
       "    </tr>\n",
       "    <tr>\n",
       "      <th>9</th>\n",
       "      <td>Israel</td>\n",
       "      <td>9</td>\n",
       "    </tr>\n",
       "  </tbody>\n",
       "</table>\n",
       "</div>"
      ],
      "text/plain": [
       "       country  count\n",
       "0        India    390\n",
       "1        Nepal    107\n",
       "2    Indonesia     68\n",
       "3     Malaysia     56\n",
       "4        China     56\n",
       "5    Singapore     26\n",
       "6        Japan     24\n",
       "7    Sri Lanka     16\n",
       "8  Timor-Leste     14\n",
       "9       Israel      9"
      ]
     },
     "execution_count": 18,
     "metadata": {},
     "output_type": "execute_result"
    }
   ],
   "source": [
    "# top10_countries = deleted['country'].value_counts().reset_index().head(10)\n",
    "# top10_countries"
   ]
  },
  {
   "cell_type": "code",
   "execution_count": 44,
   "metadata": {},
   "outputs": [],
   "source": [
    "# Vectorize 'Description' column using TF-IDF\n",
    "tfidf = TfidfVectorizer(stop_words='english', max_features=100)\n",
    "description_vectors = tfidf.fit_transform(combined_df['description']).toarray()\n"
   ]
  },
  {
   "cell_type": "code",
   "execution_count": 45,
   "metadata": {},
   "outputs": [],
   "source": [
    "\n",
    "# One-hot encode 'Category'\n",
    "encoder = OneHotEncoder()\n",
    "category_encoded = encoder.fit_transform(combined_df[['category']]).toarray()"
   ]
  },
  {
   "cell_type": "code",
   "execution_count": 46,
   "metadata": {},
   "outputs": [],
   "source": [
    "# Combine Latitude, Longitude with encoded features and TF-IDF vectors\n",
    "geo_features = combined_df[['latitude', 'longitude']].values\n",
    "geo_weight = 0.5\n",
    "desc_weight = 1.5\n",
    "category_weight = 1.0\n",
    "\n",
    "weighted_features = np.hstack((\n",
    "    geo_features * geo_weight,\n",
    "    category_encoded * category_weight,\n",
    "    description_vectors * desc_weight\n",
    "))\n"
   ]
  },
  {
   "cell_type": "code",
   "execution_count": 47,
   "metadata": {},
   "outputs": [],
   "source": [
    "# Compute similarity between places\n",
    "similarity_matrix = cosine_similarity(weighted_features)"
   ]
  },
  {
   "cell_type": "code",
   "execution_count": 52,
   "metadata": {},
   "outputs": [
    {
     "data": {
      "text/plain": [
       "array([100, 183, 188, 207, 796])"
      ]
     },
     "execution_count": 52,
     "metadata": {},
     "output_type": "execute_result"
    }
   ],
   "source": [
    "# Get recommendations for a specific place (e.g., index 0)\n",
    "place_index = 123\n",
    "similar_places = np.argsort(-similarity_matrix[place_index])[1:6]  # Top 5 excluding itself\n",
    "similar_places\n"
   ]
  },
  {
   "cell_type": "code",
   "execution_count": 53,
   "metadata": {},
   "outputs": [
    {
     "name": "stdout",
     "output_type": "stream",
     "text": [
      "                                                  name  \\\n",
      "100                                             Dakmar   \n",
      "183                                         Sadda Pind   \n",
      "188                                      Sentinel peak   \n",
      "207                                      Ubarak Kangri   \n",
      "796  Great Burkhan Khaldun Mountain and its surroun...   \n",
      "\n",
      "                                           description   longitude   latitude  \\\n",
      "100               path going to Dakmar meditation cave   77.057342  34.332248   \n",
      "183  Recreated Punjabi village with activities and ...   74.812824  31.643733   \n",
      "188                 first ascent: john jackson in 1945   75.133223  34.199445   \n",
      "207           https://www.instagram.com/p/CavzzTrl8pz/   76.821254  33.416990   \n",
      "796  <p>The site is situated in the north-east of t...  109.009328  48.761978   \n",
      "\n",
      "               category   country  \n",
      "100  Tourist Attraction     India  \n",
      "183  Tourist Attraction     India  \n",
      "188    Natural Landmark     India  \n",
      "207    Natural Landmark     India  \n",
      "796            Cultural  Mongolia  \n"
     ]
    }
   ],
   "source": [
    "print(combined_df.iloc[similar_places])\n"
   ]
  },
  {
   "cell_type": "code",
   "execution_count": 50,
   "metadata": {},
   "outputs": [
    {
     "data": {
      "image/png": "[encoded data removed]",
      "text/plain": [
       "<Figure size 1000x600 with 2 Axes>"
      ]
     },
     "metadata": {},
     "output_type": "display_data"
    }
   ],
   "source": [
    "\n",
    "# Assuming 'features' contains your combined feature vectors\n",
    "# Step 1: Apply t-SNE for dimensionality reduction\n",
    "tsne = TSNE(n_components=2, random_state=42, perplexity=30)\n",
    "reduced_features = tsne.fit_transform(weighted_features)\n",
    "\n",
    "# Step 2: Plot the reduced features\n",
    "plt.figure(figsize=(10, 6))\n",
    "scatter = plt.scatter(reduced_features[:, 0], reduced_features[:, 1],\n",
    "                      c=combined_df['category'].astype('category').cat.codes, cmap='viridis', s=50, alpha=0.7)\n",
    "\n",
    "# Add a legend (if categories are used)\n",
    "plt.colorbar(scatter, label='Category')\n",
    "plt.title('t-SNE Visualization of Places')\n",
    "plt.xlabel('t-SNE Dimension 1')\n",
    "plt.ylabel('t-SNE Dimension 2')\n",
    "plt.show()"
   ]
  },
  {
   "cell_type": "code",
   "execution_count": 51,
   "metadata": {},
   "outputs": [],
   "source": [
    "combined_df.to_csv('Combined.csv')"
   ]
  }
 ],
 "metadata": {
  "kernelspec": {
   "display_name": "venv",
   "language": "python",
   "name": "python3"
  },
  "language_info": {
   "codemirror_mode": {
    "name": "ipython",
    "version": 3
   },
   "file_extension": ".py",
   "mimetype": "text/x-python",
   "name": "python",
   "nbconvert_exporter": "python",
   "pygments_lexer": "ipython3",
   "version": "3.11.3"
  }
 },
 "nbformat": 4,
 "nbformat_minor": 2
}
